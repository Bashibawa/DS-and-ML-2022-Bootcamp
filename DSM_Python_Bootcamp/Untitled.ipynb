{
 "cells": [
  {
   "cell_type": "markdown",
   "id": "e55aa027-7771-4799-80df-4b3cdb912d05",
   "metadata": {},
   "source": [
    "# Musa Bashidoshi"
   ]
  },
  {
   "cell_type": "code",
   "execution_count": 4,
   "id": "328f8677-8513-41f6-afcf-49f348e41859",
   "metadata": {},
   "outputs": [],
   "source": [
    "def sum_two(a, b):\n",
    "    result =a+b\n",
    "    return result"
   ]
  },
  {
   "cell_type": "code",
   "execution_count": 5,
   "id": "bc82e72f-2412-4057-b0d1-c6da94a38ac6",
   "metadata": {},
   "outputs": [],
   "source": [
    "result =sum_two(2, 3)"
   ]
  },
  {
   "cell_type": "code",
   "execution_count": 6,
   "id": "4d78c081-be0a-4731-bdc6-307979b408c2",
   "metadata": {},
   "outputs": [
    {
     "data": {
      "text/plain": [
       "5"
      ]
     },
     "execution_count": 6,
     "metadata": {},
     "output_type": "execute_result"
    }
   ],
   "source": [
    "result"
   ]
  },
  {
   "cell_type": "code",
   "execution_count": 1,
   "id": "5c59a969-e208-4f2f-9a16-4d39d5439875",
   "metadata": {},
   "outputs": [
    {
     "ename": "SyntaxError",
     "evalue": "invalid syntax (552939422.py, line 2)",
     "output_type": "error",
     "traceback": [
      "\u001b[1;36m  Input \u001b[1;32mIn [1]\u001b[1;36m\u001b[0m\n\u001b[1;33m    if b==0\u001b[0m\n\u001b[1;37m           ^\u001b[0m\n\u001b[1;31mSyntaxError\u001b[0m\u001b[1;31m:\u001b[0m invalid syntax\n"
     ]
    }
   ],
   "source": [
    "def quo_two(a, b):\n",
    "    if b==0"
   ]
  },
  {
   "cell_type": "code",
   "execution_count": 2,
   "id": "fc4dc8a3-d534-4fd1-8438-965d35aa16d3",
   "metadata": {},
   "outputs": [
    {
     "ename": "SyntaxError",
     "evalue": "unexpected character after line continuation character (4028167090.py, line 1)",
     "output_type": "error",
     "traceback": [
      "\u001b[1;36m  Input \u001b[1;32mIn [2]\u001b[1;36m\u001b[0m\n\u001b[1;33m    state = input('The state in which my university is located' \\t)\u001b[0m\n\u001b[1;37m                                                                 ^\u001b[0m\n\u001b[1;31mSyntaxError\u001b[0m\u001b[1;31m:\u001b[0m unexpected character after line continuation character\n"
     ]
    }
   ],
   "source": [
    "state = input('The state in which my university is located' \\t)"
   ]
  },
  {
   "cell_type": "code",
   "execution_count": null,
   "id": "d5f5fb86-4830-40f3-98f2-0c51e84c8e22",
   "metadata": {},
   "outputs": [],
   "source": [
    "def intro():\n",
    "    print(\"Convert... cups to fluids\")\n",
    "    print(\"1 cup is 8 ounces\")\n",
    "    \n",
    "def cup_to_ounces(cup):"
   ]
  }
 ],
 "metadata": {
  "kernelspec": {
   "display_name": "Python 3 (ipykernel)",
   "language": "python",
   "name": "python3"
  },
  "language_info": {
   "codemirror_mode": {
    "name": "ipython",
    "version": 3
   },
   "file_extension": ".py",
   "mimetype": "text/x-python",
   "name": "python",
   "nbconvert_exporter": "python",
   "pygments_lexer": "ipython3",
   "version": "3.9.12"
  }
 },
 "nbformat": 4,
 "nbformat_minor": 5
}
