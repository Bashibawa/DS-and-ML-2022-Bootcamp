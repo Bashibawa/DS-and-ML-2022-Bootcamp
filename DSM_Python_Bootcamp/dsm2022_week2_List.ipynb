{
 "cells": [
  {
   "cell_type": "markdown",
   "metadata": {
    "id": "Yjqt0ys_WqOl"
   },
   "source": [
    "List - what is list: A list is a sequential collection of objects\n",
    "\n",
    "List - Why list: we need it to organize data in the code"
   ]
  },
  {
   "cell_type": "markdown",
   "metadata": {
    "id": "uOS45N4bXTWi"
   },
   "source": [
    "How to create a lsit"
   ]
  },
  {
   "cell_type": "code",
   "execution_count": 34,
   "metadata": {
    "colab": {
     "base_uri": "https://localhost:8080/"
    },
    "id": "boVw7u2IWl7Q",
    "outputId": "40f134e9-8cbd-427d-9ae4-fc7513bca8f9"
   },
   "outputs": [
    {
     "name": "stdout",
     "output_type": "stream",
     "text": [
      "['Mackay', 'Daniel', 'Steve', 'Blessing', 'Jesus', 'Juliet']\n",
      "[2, 3, 5, 7, 11, 13]\n",
      "[7.5, 10.5, 50.5, 6.6, 7.7]\n",
      "['income', 25, 7.5]\n"
     ]
    }
   ],
   "source": [
    "names = [\"Mackay\", \"Daniel\", \"Steve\", \"Blessing\", \"Jesus\", \"Juliet\"]\n",
    "print(names)\n",
    "prime_numbers = [2, 3, 5, 7, 11, 13]\n",
    "income_per_hour = [7.5, 10.5, 50.5, 6.6, 7.7]\n",
    "print(prime_numbers)\n",
    "print(income_per_hour)\n",
    "\n",
    "data = [\"income\", 25, 7.5]\n",
    "print(data)"
   ]
  },
  {
   "cell_type": "markdown",
   "metadata": {
    "id": "2h7UTnHQZrB_"
   },
   "source": [
    "Operations on List"
   ]
  },
  {
   "cell_type": "code",
   "execution_count": 27,
   "metadata": {
    "colab": {
     "base_uri": "https://localhost:8080/"
    },
    "id": "dHaRA6NDYn_X",
    "outputId": "7ab13fdc-a606-47a0-ac6e-677865aaf830"
   },
   "outputs": [
    {
     "name": "stdout",
     "output_type": "stream",
     "text": [
      "Length of list names: 6\n",
      "Length of prime numbers list: 6\n",
      "\n",
      "['Mackay', 'Daniel', 'Steve', 'Blessing', 'Jesus', 'Juliet']\n",
      "First element in the list: Mackay\n",
      "Second element in the list: Daniel\n",
      "The last element: Juliet\n",
      "\n",
      "slicing a range:  ['Daniel', 'Steve', 'Blessing']\n",
      "slicing a range:  ['Daniel', 'Steve', 'Blessing', 'Jesus']\n",
      "The last element: Juliet\n",
      "Extracting first 3 elements ['Mackay', 'Daniel', 'Steve']\n",
      "Extracting first 3 elements ['Mackay', 'Daniel', 'Steve']\n",
      "Extracting the last 2 elements ['Jesus', 'Juliet']\n",
      "\n",
      "Extracting the last 2 elements ['Jesus', 'Juliet']\n"
     ]
    }
   ],
   "source": [
    "#Length of a list\n",
    "print(\"Length of list names:\", len(names))\n",
    "print(\"Length of prime numbers list:\", len(prime_numbers))\n",
    "\n",
    "#Slicing - a way to extract items from a list or a collection\n",
    "print()\n",
    "print(names)\n",
    "print(\"First element in the list:\", names[0])\n",
    "print(\"Second element in the list:\", names[1])\n",
    "print(\"The last element:\", names[5])\n",
    "\n",
    "print()\n",
    "print(\"slicing a range: \",names[1:4])\n",
    "print(\"slicing a range: \",names[1:5])\n",
    "print(\"The last element:\", names[-1])\n",
    "print(\"Extracting first 3 elements\", names[0:3])\n",
    "print(\"Extracting first 3 elements\", names[:3])\n",
    "print(\"Extracting the last 2 elements\", names[-2:]) #Best solution\n",
    "\n",
    "\n",
    "print()\n",
    "print(\"Extracting the last 2 elements:\", names[4:]) #can work too\n",
    "\n",
    "\n",
    "\n"
   ]
  },
  {
   "cell_type": "code",
   "execution_count": 42,
   "metadata": {
    "colab": {
     "base_uri": "https://localhost:8080/"
    },
    "id": "QP5qZh08Yofs",
    "outputId": "f066829d-ea92-4066-c620-2d28a534fe42"
   },
   "outputs": [
    {
     "name": "stdout",
     "output_type": "stream",
     "text": [
      "Initial list before appending:  [2, 3, 17, 7, 11, 13] Length =  6\n",
      "Final list after appending:  [2, 3, 17, 7, 11, 13, 17] Length =  7\n",
      "\n",
      "[20, 1, 35, 16, 2, 3, 7, 9, 8]\n",
      "[1, 2, 3, 7, 9, 8]\n",
      "\n",
      "[2, 3, 5, 7, 11, 13]\n",
      "[2, 3, 17, 5, 7, 11, 13]\n"
     ]
    }
   ],
   "source": [
    "#Appending an element to a list\n",
    "prime_numbers = [2, 3, 5, 7, 11, 13]\n",
    "print(\"Initial list before appending: \", prime_numbers, \"Length = \", len(prime_numbers))\n",
    "prime_numbers.append(17)\n",
    "print(\"Final list after appending: \", prime_numbers, \"Length = \", len(prime_numbers))\n",
    "\n",
    "\n",
    "#use case of append\n",
    "\n",
    "digits = [20, 1, 35, 16, 2, 3, 7, 9, 8]\n",
    "\n",
    "new_list = []\n",
    "for item in digits:\n",
    "  if item < 10:\n",
    "    new_list.append(item)\n",
    "\n",
    "print()\n",
    "print(digits)\n",
    "print(new_list)\n",
    "\n",
    "#adding an elemet to a list based on position\n",
    "print()\n",
    "prime_numbers = [2, 3, 5, 7, 11, 13]\n",
    "print(prime_numbers)\n",
    "\n",
    "#wrong way to insert an elemtnt to a list\n",
    "# prime_numbers[2] = 17  #this will overwrite the number at position 2\n",
    "# print(prime_numbers)\n",
    "\n",
    "#Rignt way to Insert an element to a list\n",
    "prime_numbers.insert(2, 17)\n",
    "print(prime_numbers)\n"
   ]
  },
  {
   "cell_type": "code",
   "execution_count": 85,
   "metadata": {
    "colab": {
     "base_uri": "https://localhost:8080/"
    },
    "id": "0m2OTmwmxWrW",
    "outputId": "4c996c86-18ef-4954-da12-3cee8caea7c6"
   },
   "outputs": [
    {
     "name": "stdout",
     "output_type": "stream",
     "text": [
      "20\n",
      "False\n"
     ]
    }
   ],
   "source": [
    "var = 20\n",
    "print(var)\n",
    "\n",
    "print(var == 30)\n"
   ]
  },
  {
   "cell_type": "code",
   "execution_count": 50,
   "metadata": {
    "colab": {
     "base_uri": "https://localhost:8080/"
    },
    "id": "er-Qkb-KYo9T",
    "outputId": "0f64c08a-a1cf-4d27-e929-fc0ebc8f4da0"
   },
   "outputs": [
    {
     "name": "stdout",
     "output_type": "stream",
     "text": [
      "Before extending: [2, 3, 5, 7, 11, 13]\n",
      "After extending:  [2, 3, 5, 7, 11, 13, 17, 23, 29]\n",
      "\n",
      "[1, 2, 3, 6, 7, 8, 4, 5]\n",
      "\n",
      "[['Mack', 20], ['Austin', 35], ['Ade', 25], ['Dare', 28], ['Godspower', 50]]\n",
      "Mack\n"
     ]
    }
   ],
   "source": [
    "#Extend\n",
    "prime_numbers = [2, 3, 5, 7, 11, 13]\n",
    "additional_primes = [17, 23, 29]\n",
    "print(\"Before extending:\", prime_numbers)\n",
    "\n",
    "prime_numbers.extend(additional_primes)\n",
    "print(\"After extending: \", prime_numbers)\n",
    "\n",
    "#adding another list to a specific position of a list\n",
    "\n",
    "first_five_nums = [1,2,3,4,5]\n",
    "next_three = [6,7,8]\n",
    "\n",
    "#Goal: final list = [1,2,3,6,7,8,4,5]\n",
    "print()\n",
    "final_list = first_five_nums[:3] + next_three + first_five_nums[-2:]\n",
    "print(final_list)\n",
    "\n",
    "#List of list\n",
    "print()\n",
    "name_age_lst = [[\"Mack\", 20], [\"Austin\", 35], [\"Ade\", 25], [\"Dare\", 28], [\"Godspower\", 50]]\n",
    "print(name_age_lst)\n",
    "print(name_age_lst[0][0])"
   ]
  },
  {
   "cell_type": "code",
   "execution_count": 59,
   "metadata": {
    "colab": {
     "base_uri": "https://localhost:8080/"
    },
    "id": "Ws4v8XeBYpEG",
    "outputId": "97c4b15f-1d55-4557-dcd0-3e6ae11aea2a"
   },
   "outputs": [
    {
     "name": "stdout",
     "output_type": "stream",
     "text": [
      "Original List [17, 23, 27, 2, 3, 5, 7, 11, 13]\n",
      "Sorted List:  [27, 23, 17, 13, 11, 7, 5, 3, 2]\n"
     ]
    }
   ],
   "source": [
    "#Sorting\n",
    "prime_numbers = [17, 23, 27, 2, 3, 5, 7, 11, 13]\n",
    "print(\"Original List\", prime_numbers)\n",
    "\n",
    "# sorted_list = sorted(prime_numbers) #first way to sort\n",
    "# print(\"Sorted List: \", sorted_list)\n",
    "\n",
    "#second way to sort\n",
    "prime_numbers.sort(reverse = True) #in descending order. \n",
    "print(\"Sorted List: \", prime_numbers)"
   ]
  },
  {
   "cell_type": "code",
   "execution_count": 82,
   "metadata": {
    "colab": {
     "base_uri": "https://localhost:8080/"
    },
    "id": "ymVFtBC5YpJx",
    "outputId": "e96fe0ac-8e6f-483a-8290-31542b17e138"
   },
   "outputs": [
    {
     "name": "stdout",
     "output_type": "stream",
     "text": [
      "['Mackay', 'Daniel', 'Steve', 'Blessing', 'Jesus', 'Juliet', 'Jeremiah', 'Jay', 'Jael', 'Mike', 'Joseph']\n",
      "\n",
      "Count of names that starts with J:  6\n"
     ]
    }
   ],
   "source": [
    "#For loop operation on list\n",
    "#Change all names to lower case\n",
    "names = [\"Mackay\", \"Daniel\", \"Steve\", \"Blessing\", \"Jesus\", \"Juliet\"]\n",
    "#print(names)\n",
    "names_lower_case = []\n",
    "for item in names: \n",
    "  item = item.lower()\n",
    "  names_lower_case.append(item)\n",
    "#print(names_lower_case)\n",
    "\n",
    "\n",
    "#write a program that counts all the names that starts with a J\n",
    "# names.extend([\"Jeremiah\", \"Jay\", \"Jael\", \"Mike\", \"Joseph\"])\n",
    "# print(names)\n",
    "\n",
    "# count = 0\n",
    "# for name in names:\n",
    "#   if name.startswith(\"J\"):\n",
    "#     count = count + 1\n",
    "#   else:\n",
    "#     continue\n",
    "# print()\n",
    "# print(\"Count of names that starts with J: \", count)\n",
    "\n",
    "#write a program that counts all the names that starts with a J\n",
    "names.extend([\"Jeremiah\", \"Jay\", \"Jael\", \"Mike\", \"Joseph\"])\n",
    "print(names)\n",
    "\n",
    "count = 0\n",
    "for name in names:\n",
    "  if name[0] == \"J\":\n",
    "    count = count + 1\n",
    "  else:\n",
    "    continue\n",
    "print()\n",
    "print(\"Count of names that starts with J: \", count)\n"
   ]
  },
  {
   "cell_type": "code",
   "execution_count": 75,
   "metadata": {
    "colab": {
     "base_uri": "https://localhost:8080/"
    },
    "id": "vL4QvohLYpOD",
    "outputId": "d56f30e3-30a7-4835-eaa6-3fb36cf7803f"
   },
   "outputs": [
    {
     "name": "stdout",
     "output_type": "stream",
     "text": [
      "['mackay', 'daniel', 'steve', 'blessing', 'jesus', 'juliet', 'jeremiah', 'jay', 'jael', 'mike', 'joseph']\n"
     ]
    },
    {
     "data": {
      "text/plain": [
       "['Jesus', 'Juliet', 'Jeremiah', 'Jay', 'Jael', 'Joseph']"
      ]
     },
     "execution_count": 75,
     "metadata": {},
     "output_type": "execute_result"
    }
   ],
   "source": [
    "#List comprehension \n",
    "names_with_lower = [name.lower() for name in names] #list comprehension\n",
    "print(names_with_lower)\n",
    "\n",
    "names_with_j = [name for name in names if name.startswith(\"J\")]\n",
    "names_with_j\n",
    "\n",
    "#List comprehension syntax: [value then for loop] or [value for loop if condition else value]"
   ]
  },
  {
   "cell_type": "code",
   "execution_count": 78,
   "metadata": {
    "colab": {
     "base_uri": "https://localhost:8080/"
    },
    "id": "mAYUmKnhtFB4",
    "outputId": "56e21c09-cb3e-4480-c26b-49c226114f41"
   },
   "outputs": [
    {
     "name": "stdout",
     "output_type": "stream",
     "text": [
      "[27, 23, 17, 13, 11, 7, 5, 3]\n",
      "[27, 23, 17, 13, 11, 7, 5]\n"
     ]
    }
   ],
   "source": [
    "#removing an element\n",
    "print(prime_numbers)\n",
    "prime_numbers.pop()\n",
    "print(prime_numbers)"
   ]
  },
  {
   "cell_type": "code",
   "execution_count": 81,
   "metadata": {
    "colab": {
     "base_uri": "https://localhost:8080/"
    },
    "id": "YQLk_jLSYpSG",
    "outputId": "9635c241-5ceb-45a9-9eb1-5bc67c2ecfd9"
   },
   "outputs": [
    {
     "name": "stdout",
     "output_type": "stream",
     "text": [
      "[17, 13, 11, 7, 5]\n"
     ]
    }
   ],
   "source": [
    "#To remove any other element.\n",
    "#Remove by index and use del\n",
    "\n",
    "#E.g\n",
    "\n",
    "del prime_numbers[0]\n",
    "print(prime_numbers)"
   ]
  },
  {
   "cell_type": "code",
   "execution_count": null,
   "metadata": {
    "id": "iHlxTOj_XxjH"
   },
   "outputs": [],
   "source": [
    "# Next class\n",
    "# - how to initialize\n",
    "# - slicing\n",
    "# - Append\n",
    "# - Add at particular location (insert)\n",
    "# - remove (pop, del, change in place)\n",
    "# - Extend\n",
    "# - sort (two methods)\n",
    "# - For loop using List (capitalize, enumerate, add, multiply each element, join)\n",
    "# - list comprehension (sytax, example - can do add multiply example)\n",
    "#- Count operation (report count of names that start with D)"
   ]
  },
  {
   "cell_type": "code",
   "execution_count": null,
   "metadata": {
    "id": "-JyspDA0s37M"
   },
   "outputs": [],
   "source": [
    "# Next class : Aug 30\n",
    "# - Go through Dictionaries\n",
    "# - Start Numpy"
   ]
  }
 ],
 "metadata": {
  "colab": {
   "name": "Bootcamp - List.ipynb",
   "provenance": []
  },
  "kernelspec": {
   "display_name": "Python 3 (ipykernel)",
   "language": "python",
   "name": "python3"
  },
  "language_info": {
   "codemirror_mode": {
    "name": "ipython",
    "version": 3
   },
   "file_extension": ".py",
   "mimetype": "text/x-python",
   "name": "python",
   "nbconvert_exporter": "python",
   "pygments_lexer": "ipython3",
   "version": "3.9.12"
  }
 },
 "nbformat": 4,
 "nbformat_minor": 1
}
