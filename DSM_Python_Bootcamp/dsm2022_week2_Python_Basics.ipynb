{
 "cells": [
  {
   "cell_type": "markdown",
   "metadata": {
    "id": "mJ7-EtvdFsJC"
   },
   "source": [
    "## Data Types\n",
    "- Strings\n",
    "- Integer\n",
    "- Floats"
   ]
  },
  {
   "cell_type": "code",
   "execution_count": null,
   "metadata": {
    "id": "Y1U4IXhjErAa"
   },
   "outputs": [],
   "source": [
    "name = \"boy\"\n",
    "num = 10\n",
    "money = 12.2"
   ]
  },
  {
   "cell_type": "markdown",
   "metadata": {
    "id": "QnPNPu3HGexe"
   },
   "source": [
    "Setting Data Types\n",
    " - strings - str\n",
    " - Integers - int\n",
    " - Floats - float"
   ]
  },
  {
   "cell_type": "code",
   "execution_count": null,
   "metadata": {
    "colab": {
     "base_uri": "https://localhost:8080/"
    },
    "id": "kD_PRTdrGeL9",
    "outputId": "ba02d3a6-5528-4a33-af32-29b16425c7ab"
   },
   "outputs": [
    {
     "name": "stdout",
     "output_type": "stream",
     "text": [
      "boy\n"
     ]
    }
   ],
   "source": [
    "first_name = str(\"boy\")\n",
    "print(first_name)"
   ]
  },
  {
   "cell_type": "code",
   "execution_count": null,
   "metadata": {
    "colab": {
     "base_uri": "https://localhost:8080/"
    },
    "id": "_ImpMOpGG1Hr",
    "outputId": "d7672622-e839-4dfa-a8da-15f24d4a6952"
   },
   "outputs": [
    {
     "name": "stdout",
     "output_type": "stream",
     "text": [
      "100 <class 'str'>\n",
      "converted integer 100 <class 'int'>\n"
     ]
    }
   ],
   "source": [
    "num = \"100\"\n",
    "print(num, type(num))\n",
    "converted_object = int(num) \n",
    "print(\"converted integer\", converted_object, type(converted_object))"
   ]
  },
  {
   "cell_type": "code",
   "execution_count": null,
   "metadata": {
    "colab": {
     "base_uri": "https://localhost:8080/"
    },
    "id": "p60Nr54sHKE6",
    "outputId": "4c9cae5f-835d-4776-f71c-688d9b942229"
   },
   "outputs": [
    {
     "name": "stdout",
     "output_type": "stream",
     "text": [
      "Daniel Michael\n"
     ]
    }
   ],
   "source": [
    "first_name = \"Daniel\"\n",
    "last_name = 'Michael'\n",
    "\n",
    "print(first_name, last_name)"
   ]
  },
  {
   "cell_type": "markdown",
   "metadata": {
    "id": "11BkBewSIhQv"
   },
   "source": [
    "Identifier and Variables\n",
    "\n",
    "Properties\n",
    "- Case sensitive\n",
    "- combination of letters, numbers and underscore\n",
    "- can never start with numbers\n",
    "- Always give names that makes sense\n",
    "\n",
    "Good variable names\n",
    "- room_temperature\n",
    "- my_list\n",
    "- currentBill \n",
    "\n",
    "Bad variable names\n",
    "- x\n",
    "- name10\n",
    "- 12the\n",
    "- temp-h"
   ]
  },
  {
   "cell_type": "code",
   "execution_count": null,
   "metadata": {
    "colab": {
     "base_uri": "https://localhost:8080/"
    },
    "id": "sLz6zC4ZIeX2",
    "outputId": "2bbea4e9-b566-4afd-b5cd-2ee94e87559c"
   },
   "outputs": [
    {
     "name": "stdout",
     "output_type": "stream",
     "text": [
      "100\n"
     ]
    }
   ],
   "source": [
    "temperature = 100\n",
    "print(temperature)"
   ]
  },
  {
   "cell_type": "markdown",
   "metadata": {
    "id": "wv4_Exj3KuPi"
   },
   "source": [
    "## Keywords\n",
    "\n",
    "Reserved keywords in python not to be used in defining variables\n"
   ]
  },
  {
   "cell_type": "code",
   "execution_count": null,
   "metadata": {
    "id": "0vac9MvuJf51"
   },
   "outputs": [],
   "source": [
    "\n",
    "continue\n",
    "break\n",
    "None \n",
    "sum\n",
    "max\n",
    "min \n",
    "print\n",
    "for\n",
    "return \n",
    "if"
   ]
  },
  {
   "cell_type": "markdown",
   "metadata": {
    "id": "675r7-UpME7c"
   },
   "source": [
    "Assignment statement"
   ]
  },
  {
   "cell_type": "code",
   "execution_count": null,
   "metadata": {
    "colab": {
     "base_uri": "https://localhost:8080/"
    },
    "id": "j1qqB3DiLt-Q",
    "outputId": "8c2281be-2e92-41f6-a2d7-9ae4ca0e730f"
   },
   "outputs": [
    {
     "name": "stdout",
     "output_type": "stream",
     "text": [
      "45\n"
     ]
    }
   ],
   "source": [
    "temperature = 98\n",
    "\n",
    "summ = 1 + 2 + 3 + 4 \\\n",
    "+5 + 6 + 7 \\\n",
    "+ 8 + 9\n",
    "\n",
    "print(summ)"
   ]
  },
  {
   "cell_type": "markdown",
   "metadata": {
    "id": "RVPKM1leNR-c"
   },
   "source": [
    "Comments"
   ]
  },
  {
   "cell_type": "code",
   "execution_count": null,
   "metadata": {
    "colab": {
     "base_uri": "https://localhost:8080/"
    },
    "id": "aCb1MxKjMeo0",
    "outputId": "7689aa63-7bbc-4233-8a34-69086e656a61"
   },
   "outputs": [
    {
     "name": "stdout",
     "output_type": "stream",
     "text": [
      "-1\n"
     ]
    }
   ],
   "source": [
    "#added_numbers = 2 + 3\n",
    "subtract_num = 2 - 3\n",
    "print(subtract_num)\n",
    "\n",
    "# \"\"\"This code adds multiple \n",
    "# number together\n",
    "# with their pairs\"\"\""
   ]
  },
  {
   "cell_type": "markdown",
   "metadata": {
    "id": "u-sqcsRVONLN"
   },
   "source": [
    "Input and Output\n"
   ]
  },
  {
   "cell_type": "code",
   "execution_count": null,
   "metadata": {
    "colab": {
     "base_uri": "https://localhost:8080/"
    },
    "id": "GNVZBJ--OEGu",
    "outputId": "ec3747a5-a6ab-4e1c-ec1d-4e5724d642c3"
   },
   "outputs": [
    {
     "name": "stdout",
     "output_type": "stream",
     "text": [
      "this statement is an output to the screen\n",
      "The number is definitely greater than 4\n",
      "This school is for teenagers\n"
     ]
    }
   ],
   "source": [
    "#Output\n",
    "\n",
    "print(\"this statement is an output to the screen\")\n",
    "\n",
    "num1 = 5\n",
    "if num1 > 4:\n",
    "  print(\"The number is definitely greater than 4\")\n",
    "\n",
    "person_age = 25\n",
    "if person_age > 18:\n",
    "  print(\"This school is for teenagers\")"
   ]
  },
  {
   "cell_type": "code",
   "execution_count": null,
   "metadata": {
    "colab": {
     "base_uri": "https://localhost:8080/"
    },
    "id": "BIivQ44sO9JZ",
    "outputId": "0f77cdf3-6ea8-4cea-d495-ed8fb639cc28"
   },
   "outputs": [
    {
     "name": "stdout",
     "output_type": "stream",
     "text": [
      "Enter a number: 200\n",
      "400\n"
     ]
    }
   ],
   "source": [
    "#Input\n",
    "\n",
    "number = input(\"Enter a number: \")\n",
    "print(int(number) * 2)"
   ]
  },
  {
   "cell_type": "code",
   "execution_count": null,
   "metadata": {
    "colab": {
     "base_uri": "https://localhost:8080/"
    },
    "id": "RoXtScHPPrml",
    "outputId": "5a1d8e7b-9c38-40eb-e0d6-1e5bc9c444df"
   },
   "outputs": [
    {
     "name": "stdout",
     "output_type": "stream",
     "text": [
      "Adding x and y:  22\n",
      "Subtracting x and y:  12\n",
      "Multiplying x and y:  85\n",
      " Integer division of x and y:  3.4\n",
      " Remainer division of x and y:  2\n",
      "Modular division of x and y:  3\n",
      "True\n",
      "False\n",
      "False\n",
      "True\n"
     ]
    }
   ],
   "source": [
    "# Operators\n",
    "#Arithmetric operators\n",
    "\n",
    "x = 17\n",
    "y = 5\n",
    "\n",
    "print(\"Adding x and y: \",x + y)\n",
    "print(\"Subtracting x and y: \",x - y)\n",
    "print(\"Multiplying x and y: \",x * y)\n",
    "print(\" Integer division of x and y: \",x / y)\n",
    "print(\" Remainer division of x and y: \",x % y)\n",
    "print(\"Modular division of x and y: \",x // y)\n",
    "\n",
    "#Comparison\n",
    "\n",
    "print(x > y) #greater than\n",
    "print(x < y) #less than\n",
    "print(x == y)  #equality operator\n",
    "print(x != y)  # not equal operator\n"
   ]
  },
  {
   "cell_type": "code",
   "execution_count": null,
   "metadata": {
    "colab": {
     "base_uri": "https://localhost:8080/"
    },
    "id": "yxg9YsmHVQTa",
    "outputId": "eb936d2d-be63-4af6-86f5-c6e0d98a20a2"
   },
   "outputs": [
    {
     "name": "stdout",
     "output_type": "stream",
     "text": [
      "There is light\n",
      "False\n",
      "True\n",
      "True\n",
      "False\n"
     ]
    }
   ],
   "source": [
    "\n",
    "#Logical operator\n",
    "\n",
    "light_on = True\n",
    "shower_on = False\n",
    "\n",
    "if light_on:\n",
    "  print(\"There is light\")\n",
    "\n",
    "print(light_on and shower_on) #and \n",
    "print(light_on or shower_on) #or\n",
    "print(not shower_on)  #not\n",
    "print(not light_on)  #not\n"
   ]
  },
  {
   "cell_type": "code",
   "execution_count": null,
   "metadata": {
    "colab": {
     "base_uri": "https://localhost:8080/"
    },
    "id": "fQJ9WMBoZBGB",
    "outputId": "f91430f8-80d8-480e-e849-e9b0e4a62a28"
   },
   "outputs": [
    {
     "name": "stdout",
     "output_type": "stream",
     "text": [
      "The light must be from Nepa\n"
     ]
    }
   ],
   "source": [
    "light_on = True\n",
    "pumping_machine_on = True\n",
    "\n",
    "if light_on and pumping_machine_on:\n",
    "  print(\"The light must be from Nepa\") "
   ]
  },
  {
   "cell_type": "code",
   "execution_count": null,
   "metadata": {
    "id": "rvXGIkZ8S5ru"
   },
   "outputs": [],
   "source": [
    "# Assignment : Google truth table"
   ]
  },
  {
   "cell_type": "code",
   "execution_count": null,
   "metadata": {
    "id": "SfN7qNvMb1tP"
   },
   "outputs": [],
   "source": []
  },
  {
   "cell_type": "markdown",
   "metadata": {
    "id": "9RKMqnvKJcH4"
   },
   "source": [
    "Dictionary  is used to store data in key-value pair\n",
    "\n",
    "Values of dictionary can be str, float, boolean, list and int\n",
    "\n",
    "Two features of dictionary\n",
    "\n",
    "\n",
    "1.   mutable (can be changed)\n",
    "2.   duplicates are overwritten\n",
    "\n",
    "\n",
    "We will consider the following\n",
    "\n",
    "\n",
    "*   Accessing the items\n",
    "*   Changing  Items\n",
    "\n",
    "*   Adding new items\n",
    "*   Removing items\n",
    "\n",
    "\n",
    "*   Looping through items\n",
    "*   Coping dictionary\n",
    "\n",
    "\n",
    "\n",
    "\n",
    "\n",
    "\n",
    "\n",
    "\n",
    "\n",
    "\n",
    "\n",
    "\n",
    "\n",
    "\n",
    "\n",
    "\n",
    "\n",
    "\n",
    "\n",
    "\n",
    "\n",
    "\n",
    "\n",
    "  \n",
    "\n"
   ]
  },
  {
   "cell_type": "code",
   "execution_count": 2,
   "metadata": {
    "executionInfo": {
     "elapsed": 196,
     "status": "ok",
     "timestamp": 1661870164866,
     "user": {
      "displayName": "Thomas Torku",
      "userId": "10960922907377973260"
     },
     "user_tz": 300
    },
    "id": "PF5BuFO6Khd3"
   },
   "outputs": [],
   "source": [
    "#example of dictionary\n",
    "mydict ={\"Name\": \"Thomas\", \"Country\": \"Ghana\", \"Profession\": \"Lecturer\", \"Gender\": \"male\", \"height\":5.9, \"years\": 7}"
   ]
  },
  {
   "cell_type": "code",
   "execution_count": 3,
   "metadata": {
    "colab": {
     "base_uri": "https://localhost:8080/"
    },
    "executionInfo": {
     "elapsed": 158,
     "status": "ok",
     "timestamp": 1661870167683,
     "user": {
      "displayName": "Thomas Torku",
      "userId": "10960922907377973260"
     },
     "user_tz": 300
    },
    "id": "QVSGtKxBLEYc",
    "outputId": "a9cba83f-e0b6-418b-e85f-b285b776f990"
   },
   "outputs": [
    {
     "name": "stdout",
     "output_type": "stream",
     "text": [
      "{'Name': 'Thomas', 'Country': 'Ghana', 'Profession': 'Lecturer', 'Gender': 'male', 'height': 5.9, 'years': 7}\n"
     ]
    }
   ],
   "source": [
    "print(mydict)"
   ]
  },
  {
   "cell_type": "code",
   "execution_count": 4,
   "metadata": {
    "colab": {
     "base_uri": "https://localhost:8080/",
     "height": 36
    },
    "executionInfo": {
     "elapsed": 202,
     "status": "ok",
     "timestamp": 1661870209923,
     "user": {
      "displayName": "Thomas Torku",
      "userId": "10960922907377973260"
     },
     "user_tz": 300
    },
    "id": "hGAan2LBLJ9v",
    "outputId": "9f1b8a49-ac1a-493a-bbcf-503481f09aba"
   },
   "outputs": [
    {
     "data": {
      "text/plain": [
       "'Ghana'"
      ]
     },
     "execution_count": 4,
     "metadata": {},
     "output_type": "execute_result"
    }
   ],
   "source": [
    "#accessing\n",
    "mydict['Country']"
   ]
  },
  {
   "cell_type": "code",
   "execution_count": 5,
   "metadata": {
    "colab": {
     "base_uri": "https://localhost:8080/",
     "height": 36
    },
    "executionInfo": {
     "elapsed": 184,
     "status": "ok",
     "timestamp": 1661870222206,
     "user": {
      "displayName": "Thomas Torku",
      "userId": "10960922907377973260"
     },
     "user_tz": 300
    },
    "id": "OuojxHyqLvlI",
    "outputId": "438b945f-d74b-462d-ec4b-cd11a58de41f"
   },
   "outputs": [
    {
     "data": {
      "text/plain": [
       "'Lecturer'"
      ]
     },
     "execution_count": 5,
     "metadata": {},
     "output_type": "execute_result"
    }
   ],
   "source": [
    "mydict['Profession']"
   ]
  },
  {
   "cell_type": "code",
   "execution_count": 6,
   "metadata": {
    "colab": {
     "base_uri": "https://localhost:8080/"
    },
    "executionInfo": {
     "elapsed": 153,
     "status": "ok",
     "timestamp": 1661870243986,
     "user": {
      "displayName": "Thomas Torku",
      "userId": "10960922907377973260"
     },
     "user_tz": 300
    },
    "id": "pa5EtSiaLynl",
    "outputId": "eea87f38-c523-4b5a-da8d-e8ef76f96057"
   },
   "outputs": [
    {
     "data": {
      "text/plain": [
       "dict_keys(['Name', 'Country', 'Profession', 'Gender', 'height', 'years'])"
      ]
     },
     "execution_count": 6,
     "metadata": {},
     "output_type": "execute_result"
    }
   ],
   "source": [
    "mydict.keys()"
   ]
  },
  {
   "cell_type": "code",
   "execution_count": 7,
   "metadata": {
    "colab": {
     "base_uri": "https://localhost:8080/"
    },
    "executionInfo": {
     "elapsed": 3,
     "status": "ok",
     "timestamp": 1661870261945,
     "user": {
      "displayName": "Thomas Torku",
      "userId": "10960922907377973260"
     },
     "user_tz": 300
    },
    "id": "ds6rKqn4L37Q",
    "outputId": "f5c57dca-7599-48e8-8bc0-453539b173c8"
   },
   "outputs": [
    {
     "data": {
      "text/plain": [
       "dict_values(['Thomas', 'Ghana', 'Lecturer', 'male', 5.9, 7])"
      ]
     },
     "execution_count": 7,
     "metadata": {},
     "output_type": "execute_result"
    }
   ],
   "source": [
    "mydict.values()"
   ]
  },
  {
   "cell_type": "code",
   "execution_count": 8,
   "metadata": {
    "colab": {
     "base_uri": "https://localhost:8080/"
    },
    "executionInfo": {
     "elapsed": 202,
     "status": "ok",
     "timestamp": 1661870298323,
     "user": {
      "displayName": "Thomas Torku",
      "userId": "10960922907377973260"
     },
     "user_tz": 300
    },
    "id": "q5XYY9BIL8Qq",
    "outputId": "77ebabfa-e34e-4118-bc3e-020143604ed6"
   },
   "outputs": [
    {
     "data": {
      "text/plain": [
       "7"
      ]
     },
     "execution_count": 8,
     "metadata": {},
     "output_type": "execute_result"
    }
   ],
   "source": [
    "mydict.get('years')"
   ]
  },
  {
   "cell_type": "code",
   "execution_count": 9,
   "metadata": {
    "executionInfo": {
     "elapsed": 208,
     "status": "ok",
     "timestamp": 1661870329053,
     "user": {
      "displayName": "Thomas Torku",
      "userId": "10960922907377973260"
     },
     "user_tz": 300
    },
    "id": "2VMW52w1MFLU"
   },
   "outputs": [],
   "source": [
    "#changing items"
   ]
  },
  {
   "cell_type": "code",
   "execution_count": 10,
   "metadata": {
    "executionInfo": {
     "elapsed": 294,
     "status": "ok",
     "timestamp": 1661870351682,
     "user": {
      "displayName": "Thomas Torku",
      "userId": "10960922907377973260"
     },
     "user_tz": 300
    },
    "id": "mjiOJB3gMMrh"
   },
   "outputs": [],
   "source": [
    "mydict['Country'] ='Nigeria'"
   ]
  },
  {
   "cell_type": "code",
   "execution_count": 11,
   "metadata": {
    "colab": {
     "base_uri": "https://localhost:8080/"
    },
    "executionInfo": {
     "elapsed": 233,
     "status": "ok",
     "timestamp": 1661870358400,
     "user": {
      "displayName": "Thomas Torku",
      "userId": "10960922907377973260"
     },
     "user_tz": 300
    },
    "id": "5GV_ezoXMSK5",
    "outputId": "f2305c4d-bc21-4b4c-8baa-8aa7a0bd7d0f"
   },
   "outputs": [
    {
     "data": {
      "text/plain": [
       "{'Name': 'Thomas',\n",
       " 'Country': 'Nigeria',\n",
       " 'Profession': 'Lecturer',\n",
       " 'Gender': 'male',\n",
       " 'height': 5.9,\n",
       " 'years': 7}"
      ]
     },
     "execution_count": 11,
     "metadata": {},
     "output_type": "execute_result"
    }
   ],
   "source": [
    "mydict"
   ]
  },
  {
   "cell_type": "code",
   "execution_count": 19,
   "metadata": {
    "executionInfo": {
     "elapsed": 166,
     "status": "ok",
     "timestamp": 1661870405667,
     "user": {
      "displayName": "Thomas Torku",
      "userId": "10960922907377973260"
     },
     "user_tz": 300
    },
    "id": "5yQnTFbDMT0d"
   },
   "outputs": [],
   "source": [
    "mydict['Name']='Oluwadele'"
   ]
  },
  {
   "cell_type": "code",
   "execution_count": 20,
   "metadata": {
    "executionInfo": {
     "elapsed": 169,
     "status": "ok",
     "timestamp": 1661870440894,
     "user": {
      "displayName": "Thomas Torku",
      "userId": "10960922907377973260"
     },
     "user_tz": 300
    },
    "id": "tPWy3mJrMfZH"
   },
   "outputs": [],
   "source": [
    "mydict.update({'years': 4})"
   ]
  },
  {
   "cell_type": "code",
   "execution_count": 21,
   "metadata": {
    "colab": {
     "base_uri": "https://localhost:8080/"
    },
    "executionInfo": {
     "elapsed": 151,
     "status": "ok",
     "timestamp": 1661870446143,
     "user": {
      "displayName": "Thomas Torku",
      "userId": "10960922907377973260"
     },
     "user_tz": 300
    },
    "id": "h_dxfyJ9Mn_0",
    "outputId": "4f93f3e0-6706-4af9-fed9-d89b4212fa0c"
   },
   "outputs": [
    {
     "data": {
      "text/plain": [
       "{'Name': 'Oluwadele',\n",
       " 'Country': 'Nigeria',\n",
       " 'Profession': 'Lecturer',\n",
       " 'Gender': 'male',\n",
       " 'height': 5.9,\n",
       " 'years': 4,\n",
       " 'race': 'Black',\n",
       " 'is_graduated': True}"
      ]
     },
     "execution_count": 21,
     "metadata": {},
     "output_type": "execute_result"
    }
   ],
   "source": [
    "mydict"
   ]
  },
  {
   "cell_type": "code",
   "execution_count": 22,
   "metadata": {
    "executionInfo": {
     "elapsed": 151,
     "status": "ok",
     "timestamp": 1661870516760,
     "user": {
      "displayName": "Thomas Torku",
      "userId": "10960922907377973260"
     },
     "user_tz": 300
    },
    "id": "cUQhIrl9MpR8"
   },
   "outputs": [],
   "source": [
    "#adding new items\n",
    "mydict['race'] ='Black'"
   ]
  },
  {
   "cell_type": "code",
   "execution_count": 23,
   "metadata": {
    "colab": {
     "base_uri": "https://localhost:8080/"
    },
    "executionInfo": {
     "elapsed": 148,
     "status": "ok",
     "timestamp": 1661870523784,
     "user": {
      "displayName": "Thomas Torku",
      "userId": "10960922907377973260"
     },
     "user_tz": 300
    },
    "id": "TX7N3INHM6gl",
    "outputId": "11c80d00-7662-43a5-ac5e-f75510d3cdc0"
   },
   "outputs": [
    {
     "data": {
      "text/plain": [
       "{'Name': 'Oluwadele',\n",
       " 'Country': 'Nigeria',\n",
       " 'Profession': 'Lecturer',\n",
       " 'Gender': 'male',\n",
       " 'height': 5.9,\n",
       " 'years': 4,\n",
       " 'race': 'Black',\n",
       " 'is_graduated': True}"
      ]
     },
     "execution_count": 23,
     "metadata": {},
     "output_type": "execute_result"
    }
   ],
   "source": [
    "mydict"
   ]
  },
  {
   "cell_type": "code",
   "execution_count": 24,
   "metadata": {
    "executionInfo": {
     "elapsed": 137,
     "status": "ok",
     "timestamp": 1661870656156,
     "user": {
      "displayName": "Thomas Torku",
      "userId": "10960922907377973260"
     },
     "user_tz": 300
    },
    "id": "udrm-hGTM8OU"
   },
   "outputs": [],
   "source": [
    "mydict.update({'is_graduated': True})"
   ]
  },
  {
   "cell_type": "code",
   "execution_count": 25,
   "metadata": {
    "colab": {
     "base_uri": "https://localhost:8080/"
    },
    "executionInfo": {
     "elapsed": 190,
     "status": "ok",
     "timestamp": 1661870664771,
     "user": {
      "displayName": "Thomas Torku",
      "userId": "10960922907377973260"
     },
     "user_tz": 300
    },
    "id": "ZowYkEoMNcjB",
    "outputId": "f08d123f-9cfc-494b-f81f-db557b4be1c7"
   },
   "outputs": [
    {
     "data": {
      "text/plain": [
       "{'Name': 'Oluwadele',\n",
       " 'Country': 'Nigeria',\n",
       " 'Profession': 'Lecturer',\n",
       " 'Gender': 'male',\n",
       " 'height': 5.9,\n",
       " 'years': 4,\n",
       " 'race': 'Black',\n",
       " 'is_graduated': True}"
      ]
     },
     "execution_count": 25,
     "metadata": {},
     "output_type": "execute_result"
    }
   ],
   "source": [
    "mydict"
   ]
  },
  {
   "cell_type": "code",
   "execution_count": 30,
   "metadata": {
    "executionInfo": {
     "elapsed": 137,
     "status": "ok",
     "timestamp": 1661870725060,
     "user": {
      "displayName": "Thomas Torku",
      "userId": "10960922907377973260"
     },
     "user_tz": 300
    },
    "id": "rtLVgWz4NeoG"
   },
   "outputs": [],
   "source": [
    "#removing items\n",
    "mydict1 =mydict.copy()"
   ]
  },
  {
   "cell_type": "code",
   "execution_count": 31,
   "metadata": {
    "colab": {
     "base_uri": "https://localhost:8080/"
    },
    "executionInfo": {
     "elapsed": 157,
     "status": "ok",
     "timestamp": 1661870730914,
     "user": {
      "displayName": "Thomas Torku",
      "userId": "10960922907377973260"
     },
     "user_tz": 300
    },
    "id": "5WnQSIKhNtX3",
    "outputId": "6565d313-029d-4ac0-f84d-de20689526a6"
   },
   "outputs": [
    {
     "data": {
      "text/plain": [
       "{'Name': 'Oluwadele',\n",
       " 'Country': 'Nigeria',\n",
       " 'Profession': 'Lecturer',\n",
       " 'Gender': 'male',\n",
       " 'height': 5.9,\n",
       " 'years': 4,\n",
       " 'race': 'Black',\n",
       " 'is_graduated': True}"
      ]
     },
     "execution_count": 31,
     "metadata": {},
     "output_type": "execute_result"
    }
   ],
   "source": [
    "mydict1"
   ]
  },
  {
   "cell_type": "code",
   "execution_count": 22,
   "metadata": {
    "colab": {
     "base_uri": "https://localhost:8080/",
     "height": 36
    },
    "executionInfo": {
     "elapsed": 138,
     "status": "ok",
     "timestamp": 1661870754854,
     "user": {
      "displayName": "Thomas Torku",
      "userId": "10960922907377973260"
     },
     "user_tz": 300
    },
    "id": "OexJuqFRNuyr",
    "outputId": "809f72d1-b596-48f3-9d1a-912cfd08aeab"
   },
   "outputs": [
    {
     "data": {
      "application/vnd.google.colaboratory.intrinsic+json": {
       "type": "string"
      },
      "text/plain": [
       "'Oluwadele'"
      ]
     },
     "execution_count": 22,
     "metadata": {},
     "output_type": "execute_result"
    }
   ],
   "source": [
    "mydict.pop('Name')"
   ]
  },
  {
   "cell_type": "code",
   "execution_count": 23,
   "metadata": {
    "colab": {
     "base_uri": "https://localhost:8080/"
    },
    "executionInfo": {
     "elapsed": 145,
     "status": "ok",
     "timestamp": 1661870771995,
     "user": {
      "displayName": "Thomas Torku",
      "userId": "10960922907377973260"
     },
     "user_tz": 300
    },
    "id": "0e8tR5FKN0py",
    "outputId": "e0fdc126-4bb9-415f-f006-b66004c88eb5"
   },
   "outputs": [
    {
     "data": {
      "text/plain": [
       "{'Country': 'Nigeria',\n",
       " 'Profession': 'Lecturer',\n",
       " 'Gender': 'male',\n",
       " 'height': 5.9,\n",
       " 'years': 4,\n",
       " 'race': 'Black',\n",
       " 'is_graduated': True}"
      ]
     },
     "execution_count": 23,
     "metadata": {},
     "output_type": "execute_result"
    }
   ],
   "source": [
    "mydict"
   ]
  },
  {
   "cell_type": "code",
   "execution_count": 24,
   "metadata": {
    "colab": {
     "base_uri": "https://localhost:8080/"
    },
    "executionInfo": {
     "elapsed": 158,
     "status": "ok",
     "timestamp": 1661870795598,
     "user": {
      "displayName": "Thomas Torku",
      "userId": "10960922907377973260"
     },
     "user_tz": 300
    },
    "id": "_v_WHU0dN400",
    "outputId": "a149a75d-b9de-41c5-e219-f003f7e2dc57"
   },
   "outputs": [
    {
     "data": {
      "text/plain": [
       "('is_graduated', True)"
      ]
     },
     "execution_count": 24,
     "metadata": {},
     "output_type": "execute_result"
    }
   ],
   "source": [
    "mydict.popitem()"
   ]
  },
  {
   "cell_type": "code",
   "execution_count": 25,
   "metadata": {
    "colab": {
     "base_uri": "https://localhost:8080/"
    },
    "executionInfo": {
     "elapsed": 164,
     "status": "ok",
     "timestamp": 1661870803050,
     "user": {
      "displayName": "Thomas Torku",
      "userId": "10960922907377973260"
     },
     "user_tz": 300
    },
    "id": "rPB4Bjd8N-mH",
    "outputId": "c16d3ce8-231c-4e8d-d556-d16130971f1d"
   },
   "outputs": [
    {
     "data": {
      "text/plain": [
       "{'Country': 'Nigeria',\n",
       " 'Profession': 'Lecturer',\n",
       " 'Gender': 'male',\n",
       " 'height': 5.9,\n",
       " 'years': 4,\n",
       " 'race': 'Black'}"
      ]
     },
     "execution_count": 25,
     "metadata": {},
     "output_type": "execute_result"
    }
   ],
   "source": [
    "mydict"
   ]
  },
  {
   "cell_type": "code",
   "execution_count": 26,
   "metadata": {
    "executionInfo": {
     "elapsed": 139,
     "status": "ok",
     "timestamp": 1661870826568,
     "user": {
      "displayName": "Thomas Torku",
      "userId": "10960922907377973260"
     },
     "user_tz": 300
    },
    "id": "iK9IG7sLOAZ8"
   },
   "outputs": [],
   "source": [
    "del mydict['Country']"
   ]
  },
  {
   "cell_type": "code",
   "execution_count": 27,
   "metadata": {
    "executionInfo": {
     "elapsed": 127,
     "status": "ok",
     "timestamp": 1661870854293,
     "user": {
      "displayName": "Thomas Torku",
      "userId": "10960922907377973260"
     },
     "user_tz": 300
    },
    "id": "dyVT6l3ZOGJ7"
   },
   "outputs": [],
   "source": [
    "mydict3 =mydict.copy()\n"
   ]
  },
  {
   "cell_type": "code",
   "execution_count": 28,
   "metadata": {
    "executionInfo": {
     "elapsed": 142,
     "status": "ok",
     "timestamp": 1661870866247,
     "user": {
      "displayName": "Thomas Torku",
      "userId": "10960922907377973260"
     },
     "user_tz": 300
    },
    "id": "Y34eS_5VOM7Q"
   },
   "outputs": [],
   "source": [
    "mydict.clear()"
   ]
  },
  {
   "cell_type": "code",
   "execution_count": 29,
   "metadata": {
    "colab": {
     "base_uri": "https://localhost:8080/"
    },
    "executionInfo": {
     "elapsed": 160,
     "status": "ok",
     "timestamp": 1661870870412,
     "user": {
      "displayName": "Thomas Torku",
      "userId": "10960922907377973260"
     },
     "user_tz": 300
    },
    "id": "10Prz6ctOP19",
    "outputId": "9e8182bf-dae2-4dc6-cc6f-4b7684430a8b"
   },
   "outputs": [
    {
     "data": {
      "text/plain": [
       "{}"
      ]
     },
     "execution_count": 29,
     "metadata": {},
     "output_type": "execute_result"
    }
   ],
   "source": [
    "mydict"
   ]
  },
  {
   "cell_type": "code",
   "execution_count": 35,
   "metadata": {},
   "outputs": [],
   "source": [
    "import numpy as np"
   ]
  },
  {
   "cell_type": "code",
   "execution_count": 48,
   "metadata": {},
   "outputs": [
    {
     "data": {
      "text/plain": [
       "array([0, 0, 0, 0, 0, 0])"
      ]
     },
     "execution_count": 48,
     "metadata": {},
     "output_type": "execute_result"
    }
   ],
   "source": [
    "arr_zero = np.zeros((6), dtype=int)\n",
    "arr_zero"
   ]
  },
  {
   "cell_type": "code",
   "execution_count": null,
   "metadata": {},
   "outputs": [],
   "source": []
  }
 ],
 "metadata": {
  "colab": {
   "name": "Python_Basics.ipynb",
   "provenance": []
  },
  "kernelspec": {
   "display_name": "Python 3 (ipykernel)",
   "language": "python",
   "name": "python3"
  },
  "language_info": {
   "codemirror_mode": {
    "name": "ipython",
    "version": 3
   },
   "file_extension": ".py",
   "mimetype": "text/x-python",
   "name": "python",
   "nbconvert_exporter": "python",
   "pygments_lexer": "ipython3",
   "version": "3.9.12"
  }
 },
 "nbformat": 4,
 "nbformat_minor": 1
}
