{
 "cells": [
  {
   "cell_type": "markdown",
   "metadata": {
    "id": "Q9GiHqyCF3Cv"
   },
   "source": [
    "**WEEK 3: Dictionary and Numpy**\n",
    "\n",
    "Dictionary contains data that has key-value pair\n",
    "The value can be either str, float, boolean, int and list\n",
    "\n",
    "\n",
    "\n",
    "1.   A dictionary is mutable-changeable\n",
    "2.   A dictionary can be overwritten\n",
    "\n"
   ]
  },
  {
   "cell_type": "code",
   "execution_count": 2,
   "metadata": {
    "id": "fKnUF5a4F_o9"
   },
   "outputs": [],
   "source": [
    "mydict ={\"Name\": \"Thomas\", \"Country\":\"Ghana\", \"Profession\":\"Lecturer\", \"years\": 5, \"height\":5.9}"
   ]
  },
  {
   "cell_type": "code",
   "execution_count": 3,
   "metadata": {
    "colab": {
     "base_uri": "https://localhost:8080/"
    },
    "executionInfo": {
     "elapsed": 417,
     "status": "ok",
     "timestamp": 1661902849758,
     "user": {
      "displayName": "Thomas Torku",
      "userId": "10960922907377973260"
     },
     "user_tz": 300
    },
    "id": "1BsFoZ4gIJzb",
    "outputId": "180fabf9-ac4a-429d-b63c-5eb9747612b1"
   },
   "outputs": [
    {
     "data": {
      "text/plain": [
       "{'Name': 'Thomas',\n",
       " 'Country': 'Ghana',\n",
       " 'Profession': 'Lecturer',\n",
       " 'years': 5,\n",
       " 'height': 5.9}"
      ]
     },
     "execution_count": 3,
     "metadata": {},
     "output_type": "execute_result"
    }
   ],
   "source": [
    "mydict"
   ]
  },
  {
   "cell_type": "code",
   "execution_count": 4,
   "metadata": {
    "colab": {
     "base_uri": "https://localhost:8080/",
     "height": 36
    },
    "executionInfo": {
     "elapsed": 28,
     "status": "ok",
     "timestamp": 1661902934957,
     "user": {
      "displayName": "Thomas Torku",
      "userId": "10960922907377973260"
     },
     "user_tz": 300
    },
    "id": "lIA1gmXFIQNg",
    "outputId": "289160c1-ff3d-40c8-9545-30f1f1c8814a"
   },
   "outputs": [
    {
     "data": {
      "text/plain": [
       "'Thomas'"
      ]
     },
     "execution_count": 4,
     "metadata": {},
     "output_type": "execute_result"
    }
   ],
   "source": [
    "#accessing the dictionary\n",
    "mydict['Name']\n"
   ]
  },
  {
   "cell_type": "code",
   "execution_count": 5,
   "metadata": {
    "colab": {
     "base_uri": "https://localhost:8080/",
     "height": 36
    },
    "executionInfo": {
     "elapsed": 3,
     "status": "ok",
     "timestamp": 1661902969405,
     "user": {
      "displayName": "Thomas Torku",
      "userId": "10960922907377973260"
     },
     "user_tz": 300
    },
    "id": "W1mKH-2NIkSw",
    "outputId": "b71b17b7-cbaa-402a-a819-963d2e605cee"
   },
   "outputs": [
    {
     "data": {
      "text/plain": [
       "'Thomas'"
      ]
     },
     "execution_count": 5,
     "metadata": {},
     "output_type": "execute_result"
    }
   ],
   "source": [
    "mydict.get('Name')"
   ]
  },
  {
   "cell_type": "code",
   "execution_count": 6,
   "metadata": {
    "colab": {
     "base_uri": "https://localhost:8080/"
    },
    "executionInfo": {
     "elapsed": 3,
     "status": "ok",
     "timestamp": 1661903042476,
     "user": {
      "displayName": "Thomas Torku",
      "userId": "10960922907377973260"
     },
     "user_tz": 300
    },
    "id": "Yi-yZ5SWItY1",
    "outputId": "5519c37b-0104-4778-a168-81ca81e3c262"
   },
   "outputs": [
    {
     "data": {
      "text/plain": [
       "5"
      ]
     },
     "execution_count": 6,
     "metadata": {},
     "output_type": "execute_result"
    }
   ],
   "source": [
    "mydict.get('years')"
   ]
  },
  {
   "cell_type": "code",
   "execution_count": 7,
   "metadata": {
    "id": "OVohQ9htI_OX"
   },
   "outputs": [],
   "source": [
    "#changing specific values\n",
    "mydict['Name']=\"Ngozi\"\n"
   ]
  },
  {
   "cell_type": "code",
   "execution_count": 8,
   "metadata": {
    "colab": {
     "base_uri": "https://localhost:8080/"
    },
    "executionInfo": {
     "elapsed": 2,
     "status": "ok",
     "timestamp": 1661903152215,
     "user": {
      "displayName": "Thomas Torku",
      "userId": "10960922907377973260"
     },
     "user_tz": 300
    },
    "id": "I9U9wo0AJVjD",
    "outputId": "c91f4e36-9ac6-4801-d364-3a2771d403df"
   },
   "outputs": [
    {
     "name": "stdout",
     "output_type": "stream",
     "text": [
      "{'Name': 'Ngozi', 'Country': 'Ghana', 'Profession': 'Lecturer', 'years': 5, 'height': 5.9}\n"
     ]
    }
   ],
   "source": [
    "print(mydict)"
   ]
  },
  {
   "cell_type": "code",
   "execution_count": 9,
   "metadata": {
    "id": "T0TpLN6rJaCZ"
   },
   "outputs": [],
   "source": [
    "mydict.update({\"Name\": \"Samuel\"})"
   ]
  },
  {
   "cell_type": "code",
   "execution_count": 10,
   "metadata": {
    "colab": {
     "base_uri": "https://localhost:8080/"
    },
    "executionInfo": {
     "elapsed": 2,
     "status": "ok",
     "timestamp": 1661903245385,
     "user": {
      "displayName": "Thomas Torku",
      "userId": "10960922907377973260"
     },
     "user_tz": 300
    },
    "id": "3XsWu6tcJtuo",
    "outputId": "e04812d4-ce52-486d-e7bb-5605881d52db"
   },
   "outputs": [
    {
     "data": {
      "text/plain": [
       "{'Name': 'Samuel',\n",
       " 'Country': 'Ghana',\n",
       " 'Profession': 'Lecturer',\n",
       " 'years': 5,\n",
       " 'height': 5.9}"
      ]
     },
     "execution_count": 10,
     "metadata": {},
     "output_type": "execute_result"
    }
   ],
   "source": [
    "mydict"
   ]
  },
  {
   "cell_type": "code",
   "execution_count": 11,
   "metadata": {
    "id": "0JZp-HW8JwFy"
   },
   "outputs": [],
   "source": [
    "#adding new key-value pair\n",
    "mydict.update({\"is_graduated\":True})"
   ]
  },
  {
   "cell_type": "code",
   "execution_count": 12,
   "metadata": {
    "colab": {
     "base_uri": "https://localhost:8080/"
    },
    "executionInfo": {
     "elapsed": 5,
     "status": "ok",
     "timestamp": 1661903413227,
     "user": {
      "displayName": "Thomas Torku",
      "userId": "10960922907377973260"
     },
     "user_tz": 300
    },
    "id": "jbnXg2yqKW-B",
    "outputId": "b3a25eab-38ee-4b5f-ffa5-3a3b5298b003"
   },
   "outputs": [
    {
     "data": {
      "text/plain": [
       "{'Name': 'Samuel',\n",
       " 'Country': 'Ghana',\n",
       " 'Profession': 'Lecturer',\n",
       " 'years': 5,\n",
       " 'height': 5.9,\n",
       " 'is_graduated': True}"
      ]
     },
     "execution_count": 12,
     "metadata": {},
     "output_type": "execute_result"
    }
   ],
   "source": [
    "mydict"
   ]
  },
  {
   "cell_type": "code",
   "execution_count": 13,
   "metadata": {
    "id": "2oqoc0xQKZwK"
   },
   "outputs": [],
   "source": [
    "mydict['race'] ='white'"
   ]
  },
  {
   "cell_type": "code",
   "execution_count": 14,
   "metadata": {
    "colab": {
     "base_uri": "https://localhost:8080/"
    },
    "executionInfo": {
     "elapsed": 3,
     "status": "ok",
     "timestamp": 1661903513442,
     "user": {
      "displayName": "Thomas Torku",
      "userId": "10960922907377973260"
     },
     "user_tz": 300
    },
    "id": "HMfmw6PfKutm",
    "outputId": "dbac6580-8ca3-4fd3-fb92-56d19cab9a15"
   },
   "outputs": [
    {
     "data": {
      "text/plain": [
       "{'Name': 'Samuel',\n",
       " 'Country': 'Ghana',\n",
       " 'Profession': 'Lecturer',\n",
       " 'years': 5,\n",
       " 'height': 5.9,\n",
       " 'is_graduated': True,\n",
       " 'race': 'white'}"
      ]
     },
     "execution_count": 14,
     "metadata": {},
     "output_type": "execute_result"
    }
   ],
   "source": [
    "mydict"
   ]
  },
  {
   "cell_type": "code",
   "execution_count": 15,
   "metadata": {
    "id": "HI9k0V8hKxfm"
   },
   "outputs": [],
   "source": [
    "#copy the old dict into a new dict\n",
    "mydict2 =mydict.copy()"
   ]
  },
  {
   "cell_type": "code",
   "execution_count": 16,
   "metadata": {
    "colab": {
     "base_uri": "https://localhost:8080/"
    },
    "executionInfo": {
     "elapsed": 2,
     "status": "ok",
     "timestamp": 1661903738400,
     "user": {
      "displayName": "Thomas Torku",
      "userId": "10960922907377973260"
     },
     "user_tz": 300
    },
    "id": "r9wTFPxxLnKV",
    "outputId": "fa55e1cc-32b5-47ee-a04d-69b102e410e3"
   },
   "outputs": [
    {
     "data": {
      "text/plain": [
       "{'Name': 'Samuel',\n",
       " 'Country': 'Ghana',\n",
       " 'Profession': 'Lecturer',\n",
       " 'years': 5,\n",
       " 'height': 5.9,\n",
       " 'is_graduated': True,\n",
       " 'race': 'white'}"
      ]
     },
     "execution_count": 16,
     "metadata": {},
     "output_type": "execute_result"
    }
   ],
   "source": [
    "mydict2"
   ]
  },
  {
   "cell_type": "code",
   "execution_count": 17,
   "metadata": {
    "colab": {
     "base_uri": "https://localhost:8080/"
    },
    "executionInfo": {
     "elapsed": 9,
     "status": "ok",
     "timestamp": 1661903812606,
     "user": {
      "displayName": "Thomas Torku",
      "userId": "10960922907377973260"
     },
     "user_tz": 300
    },
    "id": "vwpR44jkLpIV",
    "outputId": "6aeb1427-9867-41e1-a0c3-57c03bd8f31c"
   },
   "outputs": [
    {
     "data": {
      "text/plain": [
       "5"
      ]
     },
     "execution_count": 17,
     "metadata": {},
     "output_type": "execute_result"
    }
   ],
   "source": [
    "#removing items\n",
    "mydict.pop('years')"
   ]
  },
  {
   "cell_type": "code",
   "execution_count": 18,
   "metadata": {
    "colab": {
     "base_uri": "https://localhost:8080/"
    },
    "executionInfo": {
     "elapsed": 3,
     "status": "ok",
     "timestamp": 1661903825818,
     "user": {
      "displayName": "Thomas Torku",
      "userId": "10960922907377973260"
     },
     "user_tz": 300
    },
    "id": "b9oonuCvL7QL",
    "outputId": "5a867095-e426-4e02-81d3-01520927241a"
   },
   "outputs": [
    {
     "data": {
      "text/plain": [
       "{'Name': 'Samuel',\n",
       " 'Country': 'Ghana',\n",
       " 'Profession': 'Lecturer',\n",
       " 'height': 5.9,\n",
       " 'is_graduated': True,\n",
       " 'race': 'white'}"
      ]
     },
     "execution_count": 18,
     "metadata": {},
     "output_type": "execute_result"
    }
   ],
   "source": [
    "mydict"
   ]
  },
  {
   "cell_type": "code",
   "execution_count": 19,
   "metadata": {
    "colab": {
     "base_uri": "https://localhost:8080/"
    },
    "executionInfo": {
     "elapsed": 808,
     "status": "ok",
     "timestamp": 1661903902407,
     "user": {
      "displayName": "Thomas Torku",
      "userId": "10960922907377973260"
     },
     "user_tz": 300
    },
    "id": "fKBX2v5WL-dk",
    "outputId": "0cc84e68-acb5-4bcc-b17a-217ad0c4c544"
   },
   "outputs": [
    {
     "data": {
      "text/plain": [
       "('race', 'white')"
      ]
     },
     "execution_count": 19,
     "metadata": {},
     "output_type": "execute_result"
    }
   ],
   "source": [
    "mydict.popitem()"
   ]
  },
  {
   "cell_type": "code",
   "execution_count": 20,
   "metadata": {
    "colab": {
     "base_uri": "https://localhost:8080/"
    },
    "executionInfo": {
     "elapsed": 3,
     "status": "ok",
     "timestamp": 1661903913175,
     "user": {
      "displayName": "Thomas Torku",
      "userId": "10960922907377973260"
     },
     "user_tz": 300
    },
    "id": "W5sKEeqnMQ-N",
    "outputId": "690ef2f9-ff75-4732-9ef3-a83adbc4cbb4"
   },
   "outputs": [
    {
     "data": {
      "text/plain": [
       "{'Name': 'Samuel',\n",
       " 'Country': 'Ghana',\n",
       " 'Profession': 'Lecturer',\n",
       " 'height': 5.9,\n",
       " 'is_graduated': True}"
      ]
     },
     "execution_count": 20,
     "metadata": {},
     "output_type": "execute_result"
    }
   ],
   "source": [
    "mydict"
   ]
  },
  {
   "cell_type": "code",
   "execution_count": 21,
   "metadata": {
    "id": "ySe-85UiMTxt"
   },
   "outputs": [],
   "source": [
    "mydict3 =mydict.copy()"
   ]
  },
  {
   "cell_type": "code",
   "execution_count": 22,
   "metadata": {
    "colab": {
     "base_uri": "https://localhost:8080/"
    },
    "executionInfo": {
     "elapsed": 3,
     "status": "ok",
     "timestamp": 1661904026294,
     "user": {
      "displayName": "Thomas Torku",
      "userId": "10960922907377973260"
     },
     "user_tz": 300
    },
    "id": "U4H8a3cEMs_6",
    "outputId": "dcab8d2e-9341-4680-8ddf-8079bbbc676e"
   },
   "outputs": [
    {
     "data": {
      "text/plain": [
       "{'Name': 'Samuel',\n",
       " 'Country': 'Ghana',\n",
       " 'Profession': 'Lecturer',\n",
       " 'height': 5.9,\n",
       " 'is_graduated': True}"
      ]
     },
     "execution_count": 22,
     "metadata": {},
     "output_type": "execute_result"
    }
   ],
   "source": [
    "mydict3"
   ]
  },
  {
   "cell_type": "code",
   "execution_count": 23,
   "metadata": {
    "id": "LNwMQJ6JMvaQ"
   },
   "outputs": [],
   "source": [
    "#deleting the entire dictionary\n",
    "del mydict"
   ]
  },
  {
   "cell_type": "code",
   "execution_count": 24,
   "metadata": {
    "id": "gHWxj2U8M8nG"
   },
   "outputs": [],
   "source": [
    "mydict3.clear()"
   ]
  },
  {
   "cell_type": "code",
   "execution_count": 25,
   "metadata": {
    "colab": {
     "base_uri": "https://localhost:8080/"
    },
    "executionInfo": {
     "elapsed": 3,
     "status": "ok",
     "timestamp": 1661904158220,
     "user": {
      "displayName": "Thomas Torku",
      "userId": "10960922907377973260"
     },
     "user_tz": 300
    },
    "id": "-NNzSIadNAdi",
    "outputId": "ec125407-3d94-482e-e900-684b56f4943a"
   },
   "outputs": [
    {
     "data": {
      "text/plain": [
       "{}"
      ]
     },
     "execution_count": 25,
     "metadata": {},
     "output_type": "execute_result"
    }
   ],
   "source": [
    "mydict3"
   ]
  },
  {
   "cell_type": "code",
   "execution_count": 29,
   "metadata": {},
   "outputs": [
    {
     "data": {
      "text/plain": [
       "dict_items([('Name', 'Samuel'), ('Country', 'Ghana'), ('Profession', 'Lecturer'), ('years', 5), ('height', 5.9), ('is_graduated', True), ('race', 'white')])"
      ]
     },
     "execution_count": 29,
     "metadata": {},
     "output_type": "execute_result"
    }
   ],
   "source": [
    "mydict2.items()"
   ]
  },
  {
   "cell_type": "code",
   "execution_count": 30,
   "metadata": {
    "colab": {
     "base_uri": "https://localhost:8080/"
    },
    "executionInfo": {
     "elapsed": 2,
     "status": "ok",
     "timestamp": 1661904323826,
     "user": {
      "displayName": "Thomas Torku",
      "userId": "10960922907377973260"
     },
     "user_tz": 300
    },
    "id": "aDhGmrWqNPmI",
    "outputId": "8347622a-cf46-41f5-e908-98b11f098be1"
   },
   "outputs": [
    {
     "name": "stdout",
     "output_type": "stream",
     "text": [
      "Name\n",
      "Country\n",
      "Profession\n",
      "years\n",
      "height\n",
      "is_graduated\n",
      "race\n"
     ]
    }
   ],
   "source": [
    "#looping through dictionary\n",
    "#loop through keys\n",
    "for i in mydict2.keys():\n",
    "  print(i)\n"
   ]
  },
  {
   "cell_type": "code",
   "execution_count": 31,
   "metadata": {
    "colab": {
     "base_uri": "https://localhost:8080/"
    },
    "executionInfo": {
     "elapsed": 367,
     "status": "ok",
     "timestamp": 1661904489781,
     "user": {
      "displayName": "Thomas Torku",
      "userId": "10960922907377973260"
     },
     "user_tz": 300
    },
    "id": "UJ6OXn4-N4D-",
    "outputId": "5a0ccb9f-f02f-447a-b01c-52361f4480e4"
   },
   "outputs": [
    {
     "name": "stdout",
     "output_type": "stream",
     "text": [
      "Samuel\n",
      "Ghana\n",
      "Lecturer\n",
      "5\n",
      "5.9\n",
      "True\n",
      "white\n"
     ]
    }
   ],
   "source": [
    "#loop through values\n",
    "for i in mydict2:\n",
    "  print(mydict2[i])"
   ]
  },
  {
   "cell_type": "code",
   "execution_count": 32,
   "metadata": {
    "colab": {
     "base_uri": "https://localhost:8080/"
    },
    "executionInfo": {
     "elapsed": 3,
     "status": "ok",
     "timestamp": 1661904584965,
     "user": {
      "displayName": "Thomas Torku",
      "userId": "10960922907377973260"
     },
     "user_tz": 300
    },
    "id": "nMolfMDIOFqo",
    "outputId": "869eba04-dfd3-40fe-fd27-6f90600bab68"
   },
   "outputs": [
    {
     "name": "stdout",
     "output_type": "stream",
     "text": [
      "Name Samuel\n",
      "Country Ghana\n",
      "Profession Lecturer\n",
      "years 5\n",
      "height 5.9\n",
      "is_graduated True\n",
      "race white\n"
     ]
    }
   ],
   "source": [
    "#grab both the key and the value\n",
    "for i, j in mydict2.items():\n",
    "  print(i,j)"
   ]
  },
  {
   "cell_type": "code",
   "execution_count": 33,
   "metadata": {
    "id": "4Kt6GXXwO3xV"
   },
   "outputs": [],
   "source": [
    "#nested dictionary\n",
    "stud1 ={'Test': 92, 'Grade':'A'}\n",
    "\n",
    "stud2 ={'Test': 85, 'Grade':'B'}\n",
    "\n",
    "stud3 ={'Test': 75, 'Grade': 'C'}\n",
    " \n",
    "stud4 ={'Test': 90, 'Grade': 'A'}\n",
    "\n",
    "stud5 ={'Test': 59, 'Grade': 'F'}\n",
    "\n",
    "\n",
    "mystud ={'s1': stud1, 's2': stud2, 's3': stud3, 's4':stud4, 's5':stud5}\n"
   ]
  },
  {
   "cell_type": "code",
   "execution_count": null,
   "metadata": {
    "colab": {
     "base_uri": "https://localhost:8080/"
    },
    "executionInfo": {
     "elapsed": 3,
     "status": "ok",
     "timestamp": 1661905040676,
     "user": {
      "displayName": "Thomas Torku",
      "userId": "10960922907377973260"
     },
     "user_tz": 300
    },
    "id": "xTnQp-6ZP-3s",
    "outputId": "e4bf9a2b-89a6-452b-c526-6fd6e5843ffe"
   },
   "outputs": [
    {
     "data": {
      "text/plain": [
       "{'s1': {'Test': 92, 'Grade': 'A'},\n",
       " 's2': {'Test': 85, 'Grade': 'B'},\n",
       " 's3': {'Test': 75, 'Grade': 'C'},\n",
       " 's4': {'Test': 90, 'Grade': 'A'},\n",
       " 's5': {'Test': 59, 'Grade': 'F'}}"
      ]
     },
     "execution_count": 34,
     "metadata": {},
     "output_type": "execute_result"
    }
   ],
   "source": [
    "mystud"
   ]
  },
  {
   "cell_type": "code",
   "execution_count": null,
   "metadata": {
    "colab": {
     "base_uri": "https://localhost:8080/"
    },
    "executionInfo": {
     "elapsed": 6,
     "status": "ok",
     "timestamp": 1661906755979,
     "user": {
      "displayName": "Thomas Torku",
      "userId": "10960922907377973260"
     },
     "user_tz": 300
    },
    "id": "XRVjjGMyQmzl",
    "outputId": "ff5d1984-19c9-4623-b223-7dcd7ef68945"
   },
   "outputs": [
    {
     "data": {
      "text/plain": [
       "{'Test': 92, 'Grade': 'A'}"
      ]
     },
     "execution_count": 35,
     "metadata": {},
     "output_type": "execute_result"
    }
   ],
   "source": [
    "mystud.get('s1')"
   ]
  },
  {
   "cell_type": "code",
   "execution_count": null,
   "metadata": {
    "colab": {
     "base_uri": "https://localhost:8080/"
    },
    "executionInfo": {
     "elapsed": 408,
     "status": "ok",
     "timestamp": 1661906815922,
     "user": {
      "displayName": "Thomas Torku",
      "userId": "10960922907377973260"
     },
     "user_tz": 300
    },
    "id": "1oxrVE-OXJ4S",
    "outputId": "bf6c1965-d95e-44b7-bb0a-9ef4bd82acd7"
   },
   "outputs": [
    {
     "data": {
      "text/plain": [
       "{'Test': 92, 'Grade': 'A'}"
      ]
     },
     "execution_count": 36,
     "metadata": {},
     "output_type": "execute_result"
    }
   ],
   "source": [
    "mystud['s1']"
   ]
  },
  {
   "cell_type": "code",
   "execution_count": null,
   "metadata": {
    "colab": {
     "base_uri": "https://localhost:8080/",
     "height": 36
    },
    "executionInfo": {
     "elapsed": 6,
     "status": "ok",
     "timestamp": 1661906877044,
     "user": {
      "displayName": "Thomas Torku",
      "userId": "10960922907377973260"
     },
     "user_tz": 300
    },
    "id": "uxjSywuOXYfK",
    "outputId": "5a6661a5-e3ae-4a81-e073-211715c1b705"
   },
   "outputs": [
    {
     "data": {
      "application/vnd.google.colaboratory.intrinsic+json": {
       "type": "string"
      },
      "text/plain": [
       "'A'"
      ]
     },
     "execution_count": 37,
     "metadata": {},
     "output_type": "execute_result"
    }
   ],
   "source": [
    "mys1 =mystud['s1']\n",
    "\n",
    "mys1['Grade']"
   ]
  },
  {
   "cell_type": "code",
   "execution_count": 34,
   "metadata": {
    "id": "aiElspnDXncW"
   },
   "outputs": [
    {
     "data": {
      "text/plain": [
       "{'s1': {'name': 'Daniel', 'sales': 5000.0},\n",
       " 's2': {'name': 'Sarah', 'sales': 4500.0},\n",
       " 's3': {'name': 'Aisha', 'sales': 6500.0},\n",
       " 's4': {'name': 'Seyi', 'sales': 5500.0},\n",
       " 's5': {'name': 'Chike', 'sales': 7000.0}}"
      ]
     },
     "execution_count": 34,
     "metadata": {},
     "output_type": "execute_result"
    }
   ],
   "source": [
    "##write a program that combines 5 dictionaries of sales personnel which contains their names and sales made\n",
    "\n",
    "sales_p1 ={'name': 'Daniel', 'sales': 5000.00}\n",
    "sales_p2 ={'name': 'Sarah', 'sales': 4500.00}\n",
    "sales_p3 ={'name': 'Aisha', 'sales': 6500.00}\n",
    "sales_p4 ={'name': 'Seyi', 'sales': 5500.00}\n",
    "sales_p5 ={'name': 'Chike', 'sales': 7000.00}\n",
    "\n",
    "sales = {'s1': sales_p1, 's2': sales_p2, 's3': sales_p3, 's4': sales_p4, 's5': sales_p5}\n",
    "\n",
    "sales"
   ]
  },
  {
   "cell_type": "code",
   "execution_count": 43,
   "metadata": {},
   "outputs": [
    {
     "data": {
      "text/plain": [
       "dict_values(['Daniel', 5000.0])"
      ]
     },
     "execution_count": 43,
     "metadata": {},
     "output_type": "execute_result"
    }
   ],
   "source": [
    "sales['s1'].keys()"
   ]
  },
  {
   "cell_type": "code",
   "execution_count": 44,
   "metadata": {},
   "outputs": [
    {
     "data": {
      "text/plain": [
       "dict_values(['Daniel', 5000.0])"
      ]
     },
     "execution_count": 44,
     "metadata": {},
     "output_type": "execute_result"
    }
   ],
   "source": [
    "sales['s1'].values()"
   ]
  },
  {
   "cell_type": "code",
   "execution_count": 1,
   "metadata": {
    "executionInfo": {
     "elapsed": 4,
     "status": "ok",
     "timestamp": 1662075199049,
     "user": {
      "displayName": "Thomas Torku",
      "userId": "10960922907377973260"
     },
     "user_tz": 300
    },
    "id": "c-iYBITlYQxs"
   },
   "outputs": [],
   "source": [
    "##September 1st \n",
    "#Numpy"
   ]
  },
  {
   "cell_type": "code",
   "execution_count": 2,
   "metadata": {
    "colab": {
     "base_uri": "https://localhost:8080/"
    },
    "executionInfo": {
     "elapsed": 205,
     "status": "ok",
     "timestamp": 1662075502226,
     "user": {
      "displayName": "Thomas Torku",
      "userId": "10960922907377973260"
     },
     "user_tz": 300
    },
    "id": "524s4HVbYQ1S",
    "outputId": "491f2d9e-2d40-433e-83c5-89f8cb71c7e5"
   },
   "outputs": [
    {
     "data": {
      "text/plain": [
       "[1, 2, 3, 4, 5]"
      ]
     },
     "execution_count": 2,
     "metadata": {},
     "output_type": "execute_result"
    }
   ],
   "source": [
    "#vector\n",
    "v =[1, 2, 3,4, 5]\n",
    "v"
   ]
  },
  {
   "cell_type": "code",
   "execution_count": 4,
   "metadata": {
    "colab": {
     "base_uri": "https://localhost:8080/"
    },
    "executionInfo": {
     "elapsed": 226,
     "status": "ok",
     "timestamp": 1662075539431,
     "user": {
      "displayName": "Thomas Torku",
      "userId": "10960922907377973260"
     },
     "user_tz": 300
    },
    "id": "t11AorgtYQ4h",
    "outputId": "723e4265-9a4a-436b-cdb1-50a02d53d81a"
   },
   "outputs": [
    {
     "data": {
      "text/plain": [
       "[[1, 2, 3, 4, 5], [1, 2, 3, 4, 5]]"
      ]
     },
     "execution_count": 4,
     "metadata": {},
     "output_type": "execute_result"
    }
   ],
   "source": [
    "#matrix\n",
    "mat =[v, v]\n",
    "mat"
   ]
  },
  {
   "cell_type": "code",
   "execution_count": null,
   "metadata": {
    "id": "a6ih3QLFYQ70"
   },
   "outputs": [],
   "source": []
  },
  {
   "cell_type": "markdown",
   "metadata": {
    "id": "jBHOCKEMbLov"
   },
   "source": [
    "**Numpy** is an N-dimensional array\n",
    "It is a module in python that has an extensive application to the following areas\n",
    "\n",
    "\n",
    "1.   Linear algebra\n",
    "2.   Statistics\n",
    "\n",
    "\n",
    "1.   Applied Math\n",
    "2.   Geometry\n",
    "\n",
    "\n",
    "\n"
   ]
  },
  {
   "cell_type": "code",
   "execution_count": 5,
   "metadata": {
    "executionInfo": {
     "elapsed": 227,
     "status": "ok",
     "timestamp": 1662075844557,
     "user": {
      "displayName": "Thomas Torku",
      "userId": "10960922907377973260"
     },
     "user_tz": 300
    },
    "id": "6rXlwxYBYQ_J"
   },
   "outputs": [],
   "source": [
    "#Focus\n",
    "#Basic operations on arrays\n",
    "#\"Data Containers\"\n",
    "#Resize arrays\n",
    "#Stack arrays\n",
    "#Slicing\n",
    "#other stuff"
   ]
  },
  {
   "cell_type": "code",
   "execution_count": 31,
   "metadata": {
    "colab": {
     "base_uri": "https://localhost:8080/"
    },
    "executionInfo": {
     "elapsed": 2994,
     "status": "ok",
     "timestamp": 1662078568290,
     "user": {
      "displayName": "Thomas Torku",
      "userId": "10960922907377973260"
     },
     "user_tz": 300
    },
    "id": "jzfVAvGRmgnd",
    "outputId": "5c193fb1-3d2b-42d0-c5d6-b98343b32f6c"
   },
   "outputs": [
    {
     "name": "stdout",
     "output_type": "stream",
     "text": [
      "Looking in indexes: https://pypi.org/simple, https://us-python.pkg.dev/colab-wheels/public/simple/\n",
      "Requirement already satisfied: numpy in /usr/local/lib/python3.7/dist-packages (1.21.6)\n"
     ]
    }
   ],
   "source": [
    "!pip install numpy"
   ]
  },
  {
   "cell_type": "code",
   "execution_count": 6,
   "metadata": {
    "executionInfo": {
     "elapsed": 228,
     "status": "ok",
     "timestamp": 1662075944565,
     "user": {
      "displayName": "Thomas Torku",
      "userId": "10960922907377973260"
     },
     "user_tz": 300
    },
    "id": "ejdCk0oiYRCQ"
   },
   "outputs": [],
   "source": [
    "import numpy as np\n",
    "import matplotlib.pyplot as plt\n"
   ]
  },
  {
   "cell_type": "code",
   "execution_count": 7,
   "metadata": {
    "colab": {
     "base_uri": "https://localhost:8080/"
    },
    "executionInfo": {
     "elapsed": 3,
     "status": "ok",
     "timestamp": 1662076025157,
     "user": {
      "displayName": "Thomas Torku",
      "userId": "10960922907377973260"
     },
     "user_tz": 300
    },
    "id": "5L8YtnjvYRFg",
    "outputId": "966ca8f9-72c7-4b51-8052-44311f417788"
   },
   "outputs": [
    {
     "data": {
      "text/plain": [
       "array([1, 2, 3, 4])"
      ]
     },
     "execution_count": 7,
     "metadata": {},
     "output_type": "execute_result"
    }
   ],
   "source": [
    "#1D array\n",
    "arr =np.array([1,2,3,4])\n",
    "arr\n"
   ]
  },
  {
   "cell_type": "code",
   "execution_count": 8,
   "metadata": {
    "colab": {
     "base_uri": "https://localhost:8080/"
    },
    "executionInfo": {
     "elapsed": 224,
     "status": "ok",
     "timestamp": 1662076193248,
     "user": {
      "displayName": "Thomas Torku",
      "userId": "10960922907377973260"
     },
     "user_tz": 300
    },
    "id": "glE0lWl4YRIS",
    "outputId": "85629165-f5ba-43a8-c072-46c70b3ff9b6"
   },
   "outputs": [
    {
     "data": {
      "text/plain": [
       "array([ 3,  6,  8, 13])"
      ]
     },
     "execution_count": 8,
     "metadata": {},
     "output_type": "execute_result"
    }
   ],
   "source": [
    "#Basic operations on arrays\n",
    "arr1 =np.array([2,4, 5, 9])\n",
    "#add two arrays\n",
    "add_arr =arr +arr1\n",
    "add_arr\n"
   ]
  },
  {
   "cell_type": "code",
   "execution_count": 9,
   "metadata": {
    "colab": {
     "base_uri": "https://localhost:8080/"
    },
    "executionInfo": {
     "elapsed": 204,
     "status": "ok",
     "timestamp": 1662076246518,
     "user": {
      "displayName": "Thomas Torku",
      "userId": "10960922907377973260"
     },
     "user_tz": 300
    },
    "id": "cZW4zZ_EdgdY",
    "outputId": "c97fb1a2-4464-46f4-d67a-0f46485c9000"
   },
   "outputs": [
    {
     "data": {
      "text/plain": [
       "array([1, 2, 2, 5])"
      ]
     },
     "execution_count": 9,
     "metadata": {},
     "output_type": "execute_result"
    }
   ],
   "source": [
    "#subtract two arrays\n",
    "sub_arr =arr1 -arr\n",
    "sub_arr"
   ]
  },
  {
   "cell_type": "code",
   "execution_count": 10,
   "metadata": {
    "colab": {
     "base_uri": "https://localhost:8080/"
    },
    "executionInfo": {
     "elapsed": 5,
     "status": "ok",
     "timestamp": 1662076309291,
     "user": {
      "displayName": "Thomas Torku",
      "userId": "10960922907377973260"
     },
     "user_tz": 300
    },
    "id": "d9y3qw9ldteG",
    "outputId": "805f3bd5-2158-4313-f4f6-909c33d543f9"
   },
   "outputs": [
    {
     "data": {
      "text/plain": [
       "array([ 4,  8, 10, 18])"
      ]
     },
     "execution_count": 10,
     "metadata": {},
     "output_type": "execute_result"
    }
   ],
   "source": [
    "#scalar mult\n",
    "scal =2*arr1\n",
    "scal"
   ]
  },
  {
   "cell_type": "code",
   "execution_count": 11,
   "metadata": {
    "executionInfo": {
     "elapsed": 2,
     "status": "ok",
     "timestamp": 1662076547141,
     "user": {
      "displayName": "Thomas Torku",
      "userId": "10960922907377973260"
     },
     "user_tz": 300
    },
    "id": "otmWgb57d81u"
   },
   "outputs": [],
   "source": [
    "#\"Data Containers\"\n",
    "#zeros\n",
    "#ones\n",
    "#eye\n",
    "#arange vs linspace"
   ]
  },
  {
   "cell_type": "code",
   "execution_count": 13,
   "metadata": {
    "executionInfo": {
     "elapsed": 208,
     "status": "ok",
     "timestamp": 1662076659847,
     "user": {
      "displayName": "Thomas Torku",
      "userId": "10960922907377973260"
     },
     "user_tz": 300
    },
    "id": "ks5G3QVbe2ws"
   },
   "outputs": [],
   "source": [
    "arr_zero =np.zeros((10,6), dtype=float)"
   ]
  },
  {
   "cell_type": "code",
   "execution_count": 14,
   "metadata": {
    "colab": {
     "base_uri": "https://localhost:8080/"
    },
    "executionInfo": {
     "elapsed": 248,
     "status": "ok",
     "timestamp": 1662076671713,
     "user": {
      "displayName": "Thomas Torku",
      "userId": "10960922907377973260"
     },
     "user_tz": 300
    },
    "id": "n1uT3zcifQB2",
    "outputId": "b44a07ce-8b36-4845-a9fa-a7ba5f3e6a7e"
   },
   "outputs": [
    {
     "data": {
      "text/plain": [
       "array([[0., 0., 0., 0., 0., 0.],\n",
       "       [0., 0., 0., 0., 0., 0.],\n",
       "       [0., 0., 0., 0., 0., 0.],\n",
       "       [0., 0., 0., 0., 0., 0.],\n",
       "       [0., 0., 0., 0., 0., 0.],\n",
       "       [0., 0., 0., 0., 0., 0.],\n",
       "       [0., 0., 0., 0., 0., 0.],\n",
       "       [0., 0., 0., 0., 0., 0.],\n",
       "       [0., 0., 0., 0., 0., 0.],\n",
       "       [0., 0., 0., 0., 0., 0.]])"
      ]
     },
     "execution_count": 14,
     "metadata": {},
     "output_type": "execute_result"
    }
   ],
   "source": [
    "arr_zero"
   ]
  },
  {
   "cell_type": "code",
   "execution_count": 15,
   "metadata": {
    "executionInfo": {
     "elapsed": 1,
     "status": "ok",
     "timestamp": 1662076744770,
     "user": {
      "displayName": "Thomas Torku",
      "userId": "10960922907377973260"
     },
     "user_tz": 300
    },
    "id": "1YJ2xq-kfVNo"
   },
   "outputs": [],
   "source": [
    "arr_one=np.ones((10,6), dtype=float)"
   ]
  },
  {
   "cell_type": "code",
   "execution_count": 16,
   "metadata": {
    "colab": {
     "base_uri": "https://localhost:8080/"
    },
    "executionInfo": {
     "elapsed": 253,
     "status": "ok",
     "timestamp": 1662076750392,
     "user": {
      "displayName": "Thomas Torku",
      "userId": "10960922907377973260"
     },
     "user_tz": 300
    },
    "id": "R0QvkEC7fm7Q",
    "outputId": "c5165469-1498-440b-838b-b63b122b5ed7"
   },
   "outputs": [
    {
     "data": {
      "text/plain": [
       "array([[1., 1., 1., 1., 1., 1.],\n",
       "       [1., 1., 1., 1., 1., 1.],\n",
       "       [1., 1., 1., 1., 1., 1.],\n",
       "       [1., 1., 1., 1., 1., 1.],\n",
       "       [1., 1., 1., 1., 1., 1.],\n",
       "       [1., 1., 1., 1., 1., 1.],\n",
       "       [1., 1., 1., 1., 1., 1.],\n",
       "       [1., 1., 1., 1., 1., 1.],\n",
       "       [1., 1., 1., 1., 1., 1.],\n",
       "       [1., 1., 1., 1., 1., 1.]])"
      ]
     },
     "execution_count": 16,
     "metadata": {},
     "output_type": "execute_result"
    }
   ],
   "source": [
    "arr_one "
   ]
  },
  {
   "cell_type": "code",
   "execution_count": 17,
   "metadata": {
    "colab": {
     "base_uri": "https://localhost:8080/"
    },
    "executionInfo": {
     "elapsed": 2,
     "status": "ok",
     "timestamp": 1662076823397,
     "user": {
      "displayName": "Thomas Torku",
      "userId": "10960922907377973260"
     },
     "user_tz": 300
    },
    "id": "nLDRJhywfodr",
    "outputId": "97b748a6-9a36-4375-ba2c-2c1f7cf3a5e7"
   },
   "outputs": [
    {
     "data": {
      "text/plain": [
       "array([[0.5, 0.5, 0.5, 0.5, 0.5, 0.5],\n",
       "       [0.5, 0.5, 0.5, 0.5, 0.5, 0.5],\n",
       "       [0.5, 0.5, 0.5, 0.5, 0.5, 0.5],\n",
       "       [0.5, 0.5, 0.5, 0.5, 0.5, 0.5],\n",
       "       [0.5, 0.5, 0.5, 0.5, 0.5, 0.5],\n",
       "       [0.5, 0.5, 0.5, 0.5, 0.5, 0.5],\n",
       "       [0.5, 0.5, 0.5, 0.5, 0.5, 0.5],\n",
       "       [0.5, 0.5, 0.5, 0.5, 0.5, 0.5],\n",
       "       [0.5, 0.5, 0.5, 0.5, 0.5, 0.5],\n",
       "       [0.5, 0.5, 0.5, 0.5, 0.5, 0.5]])"
      ]
     },
     "execution_count": 17,
     "metadata": {},
     "output_type": "execute_result"
    }
   ],
   "source": [
    "arr_one =0.5*arr_one\n",
    "arr_one"
   ]
  },
  {
   "cell_type": "code",
   "execution_count": 18,
   "metadata": {
    "colab": {
     "base_uri": "https://localhost:8080/"
    },
    "executionInfo": {
     "elapsed": 4,
     "status": "ok",
     "timestamp": 1662076934468,
     "user": {
      "displayName": "Thomas Torku",
      "userId": "10960922907377973260"
     },
     "user_tz": 300
    },
    "id": "zTu_Ob8rf6KM",
    "outputId": "d87bff4c-d1a3-4c76-f900-1487b53c00b2"
   },
   "outputs": [
    {
     "data": {
      "text/plain": [
       "array([[1., 0., 0.],\n",
       "       [0., 1., 0.],\n",
       "       [0., 0., 1.]])"
      ]
     },
     "execution_count": 18,
     "metadata": {},
     "output_type": "execute_result"
    }
   ],
   "source": [
    "arr_eye =np.eye(3)\n",
    "arr_eye"
   ]
  },
  {
   "cell_type": "code",
   "execution_count": 23,
   "metadata": {
    "colab": {
     "base_uri": "https://localhost:8080/"
    },
    "executionInfo": {
     "elapsed": 223,
     "status": "ok",
     "timestamp": 1662077403196,
     "user": {
      "displayName": "Thomas Torku",
      "userId": "10960922907377973260"
     },
     "user_tz": 300
    },
    "id": "yGvl-k9rgVen",
    "outputId": "e4953177-f72d-41c0-c748-e0843ef915c7"
   },
   "outputs": [
    {
     "data": {
      "text/plain": [
       "array([ 0,  1,  2,  3,  4,  5,  6,  7,  8,  9, 10, 11, 12, 13, 14, 15, 16,\n",
       "       17, 18, 19, 20, 21, 22, 23, 24, 25, 26, 27, 28, 29, 30, 31, 32, 33,\n",
       "       34, 35, 36, 37, 38, 39, 40, 41, 42, 43, 44, 45, 46, 47, 48, 49, 50])"
      ]
     },
     "execution_count": 23,
     "metadata": {},
     "output_type": "execute_result"
    }
   ],
   "source": [
    "#arange vs linspace\n",
    "arr_arange =np.arange(0, 50+1, 0.4)\n",
    "arr_arange"
   ]
  },
  {
   "cell_type": "code",
   "execution_count": 26,
   "metadata": {
    "colab": {
     "base_uri": "https://localhost:8080/"
    },
    "executionInfo": {
     "elapsed": 234,
     "status": "ok",
     "timestamp": 1662077604451,
     "user": {
      "displayName": "Thomas Torku",
      "userId": "10960922907377973260"
     },
     "user_tz": 300
    },
    "id": "h3OwZ-xfhfoz",
    "outputId": "6273dd7d-8f9a-48ce-9b42-9f048d4e2753"
   },
   "outputs": [
    {
     "data": {
      "text/plain": [
       "array([ 0.        ,  0.50505051,  1.01010101,  1.51515152,  2.02020202,\n",
       "        2.52525253,  3.03030303,  3.53535354,  4.04040404,  4.54545455,\n",
       "        5.05050505,  5.55555556,  6.06060606,  6.56565657,  7.07070707,\n",
       "        7.57575758,  8.08080808,  8.58585859,  9.09090909,  9.5959596 ,\n",
       "       10.1010101 , 10.60606061, 11.11111111, 11.61616162, 12.12121212,\n",
       "       12.62626263, 13.13131313, 13.63636364, 14.14141414, 14.64646465,\n",
       "       15.15151515, 15.65656566, 16.16161616, 16.66666667, 17.17171717,\n",
       "       17.67676768, 18.18181818, 18.68686869, 19.19191919, 19.6969697 ,\n",
       "       20.2020202 , 20.70707071, 21.21212121, 21.71717172, 22.22222222,\n",
       "       22.72727273, 23.23232323, 23.73737374, 24.24242424, 24.74747475,\n",
       "       25.25252525, 25.75757576, 26.26262626, 26.76767677, 27.27272727,\n",
       "       27.77777778, 28.28282828, 28.78787879, 29.29292929, 29.7979798 ,\n",
       "       30.3030303 , 30.80808081, 31.31313131, 31.81818182, 32.32323232,\n",
       "       32.82828283, 33.33333333, 33.83838384, 34.34343434, 34.84848485,\n",
       "       35.35353535, 35.85858586, 36.36363636, 36.86868687, 37.37373737,\n",
       "       37.87878788, 38.38383838, 38.88888889, 39.39393939, 39.8989899 ,\n",
       "       40.4040404 , 40.90909091, 41.41414141, 41.91919192, 42.42424242,\n",
       "       42.92929293, 43.43434343, 43.93939394, 44.44444444, 44.94949495,\n",
       "       45.45454545, 45.95959596, 46.46464646, 46.96969697, 47.47474747,\n",
       "       47.97979798, 48.48484848, 48.98989899, 49.49494949, 50.        ])"
      ]
     },
     "execution_count": 26,
     "metadata": {},
     "output_type": "execute_result"
    }
   ],
   "source": [
    "arr_lin =np.linspace(0, 50,100)\n",
    "arr_lin"
   ]
  },
  {
   "cell_type": "code",
   "execution_count": 28,
   "metadata": {
    "colab": {
     "base_uri": "https://localhost:8080/"
    },
    "executionInfo": {
     "elapsed": 211,
     "status": "ok",
     "timestamp": 1662077731546,
     "user": {
      "displayName": "Thomas Torku",
      "userId": "10960922907377973260"
     },
     "user_tz": 300
    },
    "id": "fp5SafmciXFS",
    "outputId": "ff8457a4-c144-49ab-ca2c-23fa38173db0"
   },
   "outputs": [
    {
     "data": {
      "text/plain": [
       "(51,)"
      ]
     },
     "execution_count": 28,
     "metadata": {},
     "output_type": "execute_result"
    }
   ],
   "source": [
    "##Resizing arrays\n",
    "#shape\n",
    "arr_arange.shape\n"
   ]
  },
  {
   "cell_type": "code",
   "execution_count": 29,
   "metadata": {
    "colab": {
     "base_uri": "https://localhost:8080/"
    },
    "executionInfo": {
     "elapsed": 2,
     "status": "ok",
     "timestamp": 1662077946158,
     "user": {
      "displayName": "Thomas Torku",
      "userId": "10960922907377973260"
     },
     "user_tz": 300
    },
    "id": "dDxdMPJjjVmQ",
    "outputId": "a6ce8ca1-a126-45e5-a298-3a7de8d78b62"
   },
   "outputs": [
    {
     "data": {
      "text/plain": [
       "array([[ 0],\n",
       "       [ 1],\n",
       "       [ 2],\n",
       "       [ 3],\n",
       "       [ 4],\n",
       "       [ 5],\n",
       "       [ 6],\n",
       "       [ 7],\n",
       "       [ 8],\n",
       "       [ 9],\n",
       "       [10],\n",
       "       [11],\n",
       "       [12],\n",
       "       [13],\n",
       "       [14],\n",
       "       [15],\n",
       "       [16],\n",
       "       [17],\n",
       "       [18],\n",
       "       [19],\n",
       "       [20],\n",
       "       [21],\n",
       "       [22],\n",
       "       [23],\n",
       "       [24],\n",
       "       [25],\n",
       "       [26],\n",
       "       [27],\n",
       "       [28],\n",
       "       [29],\n",
       "       [30],\n",
       "       [31],\n",
       "       [32],\n",
       "       [33],\n",
       "       [34],\n",
       "       [35],\n",
       "       [36],\n",
       "       [37],\n",
       "       [38],\n",
       "       [39],\n",
       "       [40],\n",
       "       [41],\n",
       "       [42],\n",
       "       [43],\n",
       "       [44],\n",
       "       [45],\n",
       "       [46],\n",
       "       [47],\n",
       "       [48],\n",
       "       [49],\n",
       "       [50]])"
      ]
     },
     "execution_count": 29,
     "metadata": {},
     "output_type": "execute_result"
    }
   ],
   "source": [
    "#reshape method\n",
    "arr_arange =arr_arange.reshape((-1, 1))\n",
    "arr_arange"
   ]
  },
  {
   "cell_type": "code",
   "execution_count": 30,
   "metadata": {
    "colab": {
     "base_uri": "https://localhost:8080/"
    },
    "executionInfo": {
     "elapsed": 213,
     "status": "ok",
     "timestamp": 1662077966985,
     "user": {
      "displayName": "Thomas Torku",
      "userId": "10960922907377973260"
     },
     "user_tz": 300
    },
    "id": "v6FwaG2FkMXa",
    "outputId": "4d2210a6-6cb1-4afd-baf2-5c1fdc054120"
   },
   "outputs": [
    {
     "data": {
      "text/plain": [
       "(51, 1)"
      ]
     },
     "execution_count": 30,
     "metadata": {},
     "output_type": "execute_result"
    }
   ],
   "source": [
    "arr_arange.shape"
   ]
  },
  {
   "cell_type": "code",
   "execution_count": 32,
   "metadata": {
    "colab": {
     "base_uri": "https://localhost:8080/"
    },
    "executionInfo": {
     "elapsed": 3,
     "status": "ok",
     "timestamp": 1662079006011,
     "user": {
      "displayName": "Thomas Torku",
      "userId": "10960922907377973260"
     },
     "user_tz": 300
    },
    "id": "N934O6mYkReZ",
    "outputId": "e54f2876-4d71-439e-c357-ea4408f8133f"
   },
   "outputs": [
    {
     "data": {
      "text/plain": [
       "array([[1],\n",
       "       [2],\n",
       "       [3],\n",
       "       [4]])"
      ]
     },
     "execution_count": 32,
     "metadata": {},
     "output_type": "execute_result"
    }
   ],
   "source": [
    "#stacking arrays\n",
    "ar1 =np.array([1,2,3,4]).reshape((-1,1))\n",
    "ar2 =np.array([5, 6, 7, 8]).reshape((-1,1))\n",
    "\n",
    "ar1\n"
   ]
  },
  {
   "cell_type": "code",
   "execution_count": 33,
   "metadata": {
    "colab": {
     "base_uri": "https://localhost:8080/"
    },
    "executionInfo": {
     "elapsed": 209,
     "status": "ok",
     "timestamp": 1662079011375,
     "user": {
      "displayName": "Thomas Torku",
      "userId": "10960922907377973260"
     },
     "user_tz": 300
    },
    "id": "4R87LMZloPCz",
    "outputId": "c53e2786-8f51-4b59-fc60-77adac738309"
   },
   "outputs": [
    {
     "data": {
      "text/plain": [
       "array([[5],\n",
       "       [6],\n",
       "       [7],\n",
       "       [8]])"
      ]
     },
     "execution_count": 33,
     "metadata": {},
     "output_type": "execute_result"
    }
   ],
   "source": [
    "ar2"
   ]
  },
  {
   "cell_type": "code",
   "execution_count": 34,
   "metadata": {
    "colab": {
     "base_uri": "https://localhost:8080/"
    },
    "executionInfo": {
     "elapsed": 216,
     "status": "ok",
     "timestamp": 1662079089698,
     "user": {
      "displayName": "Thomas Torku",
      "userId": "10960922907377973260"
     },
     "user_tz": 300
    },
    "id": "IXHEte6DoQfO",
    "outputId": "56a75da1-1146-475c-e72d-13cc54235e4e"
   },
   "outputs": [
    {
     "data": {
      "text/plain": [
       "array([[1],\n",
       "       [2],\n",
       "       [3],\n",
       "       [4],\n",
       "       [5],\n",
       "       [6],\n",
       "       [7],\n",
       "       [8]])"
      ]
     },
     "execution_count": 34,
     "metadata": {},
     "output_type": "execute_result"
    }
   ],
   "source": [
    "#vstack\n",
    "v_arr =np.vstack((ar1, ar2))\n",
    "v_arr"
   ]
  },
  {
   "cell_type": "code",
   "execution_count": 35,
   "metadata": {
    "colab": {
     "base_uri": "https://localhost:8080/"
    },
    "executionInfo": {
     "elapsed": 224,
     "status": "ok",
     "timestamp": 1662079152854,
     "user": {
      "displayName": "Thomas Torku",
      "userId": "10960922907377973260"
     },
     "user_tz": 300
    },
    "id": "wlZpxSSQojlN",
    "outputId": "39ce6f71-7064-4111-c555-8f06d876dd3d"
   },
   "outputs": [
    {
     "data": {
      "text/plain": [
       "array([[1, 5],\n",
       "       [2, 6],\n",
       "       [3, 7],\n",
       "       [4, 8]])"
      ]
     },
     "execution_count": 35,
     "metadata": {},
     "output_type": "execute_result"
    }
   ],
   "source": [
    "#hstack\n",
    "h_arr =np.hstack((ar1, ar2))\n",
    "h_arr"
   ]
  },
  {
   "cell_type": "code",
   "execution_count": null,
   "metadata": {
    "id": "9vBIOnqhozBC"
   },
   "outputs": [],
   "source": [
    "#np.concatenate"
   ]
  },
  {
   "cell_type": "code",
   "execution_count": 36,
   "metadata": {
    "executionInfo": {
     "elapsed": 226,
     "status": "ok",
     "timestamp": 1662079213472,
     "user": {
      "displayName": "Thomas Torku",
      "userId": "10960922907377973260"
     },
     "user_tz": 300
    },
    "id": "w_zo7k_Do_GL"
   },
   "outputs": [],
   "source": [
    "##Slicing"
   ]
  },
  {
   "cell_type": "code",
   "execution_count": 37,
   "metadata": {
    "colab": {
     "base_uri": "https://localhost:8080/"
    },
    "executionInfo": {
     "elapsed": 323,
     "status": "ok",
     "timestamp": 1662079302806,
     "user": {
      "displayName": "Thomas Torku",
      "userId": "10960922907377973260"
     },
     "user_tz": 300
    },
    "id": "_zjXyBF4o_Od",
    "outputId": "5389c494-9414-4d19-bba9-bed78041e059"
   },
   "outputs": [
    {
     "data": {
      "text/plain": [
       "array([[0.4, 0.4, 0.4, 0.4, 0.4, 0.4, 0.4],\n",
       "       [0.4, 0.4, 0.4, 0.4, 0.4, 0.4, 0.4],\n",
       "       [0.4, 0.4, 0.4, 0.4, 0.4, 0.4, 0.4],\n",
       "       [0.4, 0.4, 0.4, 0.4, 0.4, 0.4, 0.4],\n",
       "       [0.4, 0.4, 0.4, 0.4, 0.4, 0.4, 0.4],\n",
       "       [0.4, 0.4, 0.4, 0.4, 0.4, 0.4, 0.4],\n",
       "       [0.4, 0.4, 0.4, 0.4, 0.4, 0.4, 0.4],\n",
       "       [0.4, 0.4, 0.4, 0.4, 0.4, 0.4, 0.4],\n",
       "       [0.4, 0.4, 0.4, 0.4, 0.4, 0.4, 0.4],\n",
       "       [0.4, 0.4, 0.4, 0.4, 0.4, 0.4, 0.4],\n",
       "       [0.4, 0.4, 0.4, 0.4, 0.4, 0.4, 0.4],\n",
       "       [0.4, 0.4, 0.4, 0.4, 0.4, 0.4, 0.4],\n",
       "       [0.4, 0.4, 0.4, 0.4, 0.4, 0.4, 0.4],\n",
       "       [0.4, 0.4, 0.4, 0.4, 0.4, 0.4, 0.4],\n",
       "       [0.4, 0.4, 0.4, 0.4, 0.4, 0.4, 0.4],\n",
       "       [0.4, 0.4, 0.4, 0.4, 0.4, 0.4, 0.4],\n",
       "       [0.4, 0.4, 0.4, 0.4, 0.4, 0.4, 0.4],\n",
       "       [0.4, 0.4, 0.4, 0.4, 0.4, 0.4, 0.4],\n",
       "       [0.4, 0.4, 0.4, 0.4, 0.4, 0.4, 0.4],\n",
       "       [0.4, 0.4, 0.4, 0.4, 0.4, 0.4, 0.4],\n",
       "       [0.4, 0.4, 0.4, 0.4, 0.4, 0.4, 0.4],\n",
       "       [0.4, 0.4, 0.4, 0.4, 0.4, 0.4, 0.4],\n",
       "       [0.4, 0.4, 0.4, 0.4, 0.4, 0.4, 0.4],\n",
       "       [0.4, 0.4, 0.4, 0.4, 0.4, 0.4, 0.4],\n",
       "       [0.4, 0.4, 0.4, 0.4, 0.4, 0.4, 0.4],\n",
       "       [0.4, 0.4, 0.4, 0.4, 0.4, 0.4, 0.4],\n",
       "       [0.4, 0.4, 0.4, 0.4, 0.4, 0.4, 0.4],\n",
       "       [0.4, 0.4, 0.4, 0.4, 0.4, 0.4, 0.4],\n",
       "       [0.4, 0.4, 0.4, 0.4, 0.4, 0.4, 0.4],\n",
       "       [0.4, 0.4, 0.4, 0.4, 0.4, 0.4, 0.4],\n",
       "       [0.4, 0.4, 0.4, 0.4, 0.4, 0.4, 0.4],\n",
       "       [0.4, 0.4, 0.4, 0.4, 0.4, 0.4, 0.4],\n",
       "       [0.4, 0.4, 0.4, 0.4, 0.4, 0.4, 0.4],\n",
       "       [0.4, 0.4, 0.4, 0.4, 0.4, 0.4, 0.4],\n",
       "       [0.4, 0.4, 0.4, 0.4, 0.4, 0.4, 0.4],\n",
       "       [0.4, 0.4, 0.4, 0.4, 0.4, 0.4, 0.4],\n",
       "       [0.4, 0.4, 0.4, 0.4, 0.4, 0.4, 0.4],\n",
       "       [0.4, 0.4, 0.4, 0.4, 0.4, 0.4, 0.4],\n",
       "       [0.4, 0.4, 0.4, 0.4, 0.4, 0.4, 0.4],\n",
       "       [0.4, 0.4, 0.4, 0.4, 0.4, 0.4, 0.4],\n",
       "       [0.4, 0.4, 0.4, 0.4, 0.4, 0.4, 0.4],\n",
       "       [0.4, 0.4, 0.4, 0.4, 0.4, 0.4, 0.4],\n",
       "       [0.4, 0.4, 0.4, 0.4, 0.4, 0.4, 0.4],\n",
       "       [0.4, 0.4, 0.4, 0.4, 0.4, 0.4, 0.4],\n",
       "       [0.4, 0.4, 0.4, 0.4, 0.4, 0.4, 0.4]])"
      ]
     },
     "execution_count": 37,
     "metadata": {},
     "output_type": "execute_result"
    }
   ],
   "source": [
    "arr_slic =0.4*np.ones((45,7), dtype=float)\n",
    "arr_slic"
   ]
  },
  {
   "cell_type": "code",
   "execution_count": 42,
   "metadata": {
    "colab": {
     "base_uri": "https://localhost:8080/"
    },
    "executionInfo": {
     "elapsed": 221,
     "status": "ok",
     "timestamp": 1662079590249,
     "user": {
      "displayName": "Thomas Torku",
      "userId": "10960922907377973260"
     },
     "user_tz": 300
    },
    "id": "UodY62DPo_TH",
    "outputId": "e2a55544-a59c-4a50-ac0c-e06859f445b9"
   },
   "outputs": [
    {
     "data": {
      "text/plain": [
       "array([[0.4, 0.4, 0.4, 0.4, 0.4, 0.4, 0.4],\n",
       "       [0.4, 0.4, 0.4, 0.4, 0.4, 0.4, 0.4],\n",
       "       [0.4, 0.4, 0.4, 0.4, 0.4, 0.4, 0.4],\n",
       "       [0.4, 0.4, 0.4, 0.4, 0.4, 0.4, 0.4],\n",
       "       [0.4, 0.4, 0.4, 0.4, 0.4, 0.4, 0.4],\n",
       "       [0.4, 0.4, 0.4, 0.4, 0.4, 0.4, 0.4]])"
      ]
     },
     "execution_count": 42,
     "metadata": {},
     "output_type": "execute_result"
    }
   ],
   "source": [
    "##grab some rows\n",
    "#5th to 10th row\n",
    "arr_slic[4:10, :]  "
   ]
  },
  {
   "cell_type": "code",
   "execution_count": 43,
   "metadata": {
    "executionInfo": {
     "elapsed": 343,
     "status": "ok",
     "timestamp": 1662079638319,
     "user": {
      "displayName": "Thomas Torku",
      "userId": "10960922907377973260"
     },
     "user_tz": 300
    },
    "id": "UBUWxHMyp_pg"
   },
   "outputs": [],
   "source": [
    "arr_slic[:5,:]=0.5"
   ]
  },
  {
   "cell_type": "code",
   "execution_count": 44,
   "metadata": {
    "colab": {
     "base_uri": "https://localhost:8080/"
    },
    "executionInfo": {
     "elapsed": 238,
     "status": "ok",
     "timestamp": 1662079645816,
     "user": {
      "displayName": "Thomas Torku",
      "userId": "10960922907377973260"
     },
     "user_tz": 300
    },
    "id": "D-UcvTE_qpfX",
    "outputId": "11e99be5-ef7d-448b-a976-9ca953f17221"
   },
   "outputs": [
    {
     "data": {
      "text/plain": [
       "array([[0.5, 0.5, 0.5, 0.5, 0.5, 0.5, 0.5],\n",
       "       [0.5, 0.5, 0.5, 0.5, 0.5, 0.5, 0.5],\n",
       "       [0.5, 0.5, 0.5, 0.5, 0.5, 0.5, 0.5],\n",
       "       [0.5, 0.5, 0.5, 0.5, 0.5, 0.5, 0.5],\n",
       "       [0.5, 0.5, 0.5, 0.5, 0.5, 0.5, 0.5],\n",
       "       [0.4, 0.4, 0.4, 0.4, 0.4, 0.4, 0.4],\n",
       "       [0.4, 0.4, 0.4, 0.4, 0.4, 0.4, 0.4],\n",
       "       [0.4, 0.4, 0.4, 0.4, 0.4, 0.4, 0.4],\n",
       "       [0.4, 0.4, 0.4, 0.4, 0.4, 0.4, 0.4],\n",
       "       [0.4, 0.4, 0.4, 0.4, 0.4, 0.4, 0.4],\n",
       "       [0.4, 0.4, 0.4, 0.4, 0.4, 0.4, 0.4],\n",
       "       [0.4, 0.4, 0.4, 0.4, 0.4, 0.4, 0.4],\n",
       "       [0.4, 0.4, 0.4, 0.4, 0.4, 0.4, 0.4],\n",
       "       [0.4, 0.4, 0.4, 0.4, 0.4, 0.4, 0.4],\n",
       "       [0.4, 0.4, 0.4, 0.4, 0.4, 0.4, 0.4],\n",
       "       [0.4, 0.4, 0.4, 0.4, 0.4, 0.4, 0.4],\n",
       "       [0.4, 0.4, 0.4, 0.4, 0.4, 0.4, 0.4],\n",
       "       [0.4, 0.4, 0.4, 0.4, 0.4, 0.4, 0.4],\n",
       "       [0.4, 0.4, 0.4, 0.4, 0.4, 0.4, 0.4],\n",
       "       [0.4, 0.4, 0.4, 0.4, 0.4, 0.4, 0.4],\n",
       "       [0.4, 0.4, 0.4, 0.4, 0.4, 0.4, 0.4],\n",
       "       [0.4, 0.4, 0.4, 0.4, 0.4, 0.4, 0.4],\n",
       "       [0.4, 0.4, 0.4, 0.4, 0.4, 0.4, 0.4],\n",
       "       [0.4, 0.4, 0.4, 0.4, 0.4, 0.4, 0.4],\n",
       "       [0.4, 0.4, 0.4, 0.4, 0.4, 0.4, 0.4],\n",
       "       [0.4, 0.4, 0.4, 0.4, 0.4, 0.4, 0.4],\n",
       "       [0.4, 0.4, 0.4, 0.4, 0.4, 0.4, 0.4],\n",
       "       [0.4, 0.4, 0.4, 0.4, 0.4, 0.4, 0.4],\n",
       "       [0.4, 0.4, 0.4, 0.4, 0.4, 0.4, 0.4],\n",
       "       [0.4, 0.4, 0.4, 0.4, 0.4, 0.4, 0.4],\n",
       "       [0.4, 0.4, 0.4, 0.4, 0.4, 0.4, 0.4],\n",
       "       [0.4, 0.4, 0.4, 0.4, 0.4, 0.4, 0.4],\n",
       "       [0.4, 0.4, 0.4, 0.4, 0.4, 0.4, 0.4],\n",
       "       [0.4, 0.4, 0.4, 0.4, 0.4, 0.4, 0.4],\n",
       "       [0.4, 0.4, 0.4, 0.4, 0.4, 0.4, 0.4],\n",
       "       [0.4, 0.4, 0.4, 0.4, 0.4, 0.4, 0.4],\n",
       "       [0.4, 0.4, 0.4, 0.4, 0.4, 0.4, 0.4],\n",
       "       [0.4, 0.4, 0.4, 0.4, 0.4, 0.4, 0.4],\n",
       "       [0.4, 0.4, 0.4, 0.4, 0.4, 0.4, 0.4],\n",
       "       [0.4, 0.4, 0.4, 0.4, 0.4, 0.4, 0.4],\n",
       "       [0.4, 0.4, 0.4, 0.4, 0.4, 0.4, 0.4],\n",
       "       [0.4, 0.4, 0.4, 0.4, 0.4, 0.4, 0.4],\n",
       "       [0.4, 0.4, 0.4, 0.4, 0.4, 0.4, 0.4],\n",
       "       [0.4, 0.4, 0.4, 0.4, 0.4, 0.4, 0.4],\n",
       "       [0.4, 0.4, 0.4, 0.4, 0.4, 0.4, 0.4]])"
      ]
     },
     "execution_count": 44,
     "metadata": {},
     "output_type": "execute_result"
    }
   ],
   "source": [
    "arr_slic"
   ]
  },
  {
   "cell_type": "code",
   "execution_count": 45,
   "metadata": {
    "executionInfo": {
     "elapsed": 244,
     "status": "ok",
     "timestamp": 1662079700636,
     "user": {
      "displayName": "Thomas Torku",
      "userId": "10960922907377973260"
     },
     "user_tz": 300
    },
    "id": "ZtT7MysyqrWk"
   },
   "outputs": [],
   "source": [
    "arr_slic[-2:, :]=0.9"
   ]
  },
  {
   "cell_type": "code",
   "execution_count": 46,
   "metadata": {
    "colab": {
     "base_uri": "https://localhost:8080/"
    },
    "executionInfo": {
     "elapsed": 216,
     "status": "ok",
     "timestamp": 1662079706915,
     "user": {
      "displayName": "Thomas Torku",
      "userId": "10960922907377973260"
     },
     "user_tz": 300
    },
    "id": "Bjoof8JDq4vd",
    "outputId": "a9d64690-0aba-460b-bb2a-718758bffb69"
   },
   "outputs": [
    {
     "data": {
      "text/plain": [
       "array([[0.5, 0.5, 0.5, 0.5, 0.5, 0.5, 0.5],\n",
       "       [0.5, 0.5, 0.5, 0.5, 0.5, 0.5, 0.5],\n",
       "       [0.5, 0.5, 0.5, 0.5, 0.5, 0.5, 0.5],\n",
       "       [0.5, 0.5, 0.5, 0.5, 0.5, 0.5, 0.5],\n",
       "       [0.5, 0.5, 0.5, 0.5, 0.5, 0.5, 0.5],\n",
       "       [0.4, 0.4, 0.4, 0.4, 0.4, 0.4, 0.4],\n",
       "       [0.4, 0.4, 0.4, 0.4, 0.4, 0.4, 0.4],\n",
       "       [0.4, 0.4, 0.4, 0.4, 0.4, 0.4, 0.4],\n",
       "       [0.4, 0.4, 0.4, 0.4, 0.4, 0.4, 0.4],\n",
       "       [0.4, 0.4, 0.4, 0.4, 0.4, 0.4, 0.4],\n",
       "       [0.4, 0.4, 0.4, 0.4, 0.4, 0.4, 0.4],\n",
       "       [0.4, 0.4, 0.4, 0.4, 0.4, 0.4, 0.4],\n",
       "       [0.4, 0.4, 0.4, 0.4, 0.4, 0.4, 0.4],\n",
       "       [0.4, 0.4, 0.4, 0.4, 0.4, 0.4, 0.4],\n",
       "       [0.4, 0.4, 0.4, 0.4, 0.4, 0.4, 0.4],\n",
       "       [0.4, 0.4, 0.4, 0.4, 0.4, 0.4, 0.4],\n",
       "       [0.4, 0.4, 0.4, 0.4, 0.4, 0.4, 0.4],\n",
       "       [0.4, 0.4, 0.4, 0.4, 0.4, 0.4, 0.4],\n",
       "       [0.4, 0.4, 0.4, 0.4, 0.4, 0.4, 0.4],\n",
       "       [0.4, 0.4, 0.4, 0.4, 0.4, 0.4, 0.4],\n",
       "       [0.4, 0.4, 0.4, 0.4, 0.4, 0.4, 0.4],\n",
       "       [0.4, 0.4, 0.4, 0.4, 0.4, 0.4, 0.4],\n",
       "       [0.4, 0.4, 0.4, 0.4, 0.4, 0.4, 0.4],\n",
       "       [0.4, 0.4, 0.4, 0.4, 0.4, 0.4, 0.4],\n",
       "       [0.4, 0.4, 0.4, 0.4, 0.4, 0.4, 0.4],\n",
       "       [0.4, 0.4, 0.4, 0.4, 0.4, 0.4, 0.4],\n",
       "       [0.4, 0.4, 0.4, 0.4, 0.4, 0.4, 0.4],\n",
       "       [0.4, 0.4, 0.4, 0.4, 0.4, 0.4, 0.4],\n",
       "       [0.4, 0.4, 0.4, 0.4, 0.4, 0.4, 0.4],\n",
       "       [0.4, 0.4, 0.4, 0.4, 0.4, 0.4, 0.4],\n",
       "       [0.4, 0.4, 0.4, 0.4, 0.4, 0.4, 0.4],\n",
       "       [0.4, 0.4, 0.4, 0.4, 0.4, 0.4, 0.4],\n",
       "       [0.4, 0.4, 0.4, 0.4, 0.4, 0.4, 0.4],\n",
       "       [0.4, 0.4, 0.4, 0.4, 0.4, 0.4, 0.4],\n",
       "       [0.4, 0.4, 0.4, 0.4, 0.4, 0.4, 0.4],\n",
       "       [0.4, 0.4, 0.4, 0.4, 0.4, 0.4, 0.4],\n",
       "       [0.4, 0.4, 0.4, 0.4, 0.4, 0.4, 0.4],\n",
       "       [0.4, 0.4, 0.4, 0.4, 0.4, 0.4, 0.4],\n",
       "       [0.4, 0.4, 0.4, 0.4, 0.4, 0.4, 0.4],\n",
       "       [0.4, 0.4, 0.4, 0.4, 0.4, 0.4, 0.4],\n",
       "       [0.4, 0.4, 0.4, 0.4, 0.4, 0.4, 0.4],\n",
       "       [0.4, 0.4, 0.4, 0.4, 0.4, 0.4, 0.4],\n",
       "       [0.4, 0.4, 0.4, 0.4, 0.4, 0.4, 0.4],\n",
       "       [0.9, 0.9, 0.9, 0.9, 0.9, 0.9, 0.9],\n",
       "       [0.9, 0.9, 0.9, 0.9, 0.9, 0.9, 0.9]])"
      ]
     },
     "execution_count": 46,
     "metadata": {},
     "output_type": "execute_result"
    }
   ],
   "source": [
    "arr_slic"
   ]
  },
  {
   "cell_type": "code",
   "execution_count": 47,
   "metadata": {
    "colab": {
     "base_uri": "https://localhost:8080/"
    },
    "executionInfo": {
     "elapsed": 192,
     "status": "ok",
     "timestamp": 1662079799158,
     "user": {
      "displayName": "Thomas Torku",
      "userId": "10960922907377973260"
     },
     "user_tz": 300
    },
    "id": "R46gC7rhq6SV",
    "outputId": "1bf2af34-4d74-4092-f08d-96644f98e645"
   },
   "outputs": [
    {
     "data": {
      "text/plain": [
       "array([[0.5, 0.5],\n",
       "       [0.5, 0.5],\n",
       "       [0.5, 0.5],\n",
       "       [0.5, 0.5],\n",
       "       [0.5, 0.5],\n",
       "       [0.4, 0.4],\n",
       "       [0.4, 0.4],\n",
       "       [0.4, 0.4],\n",
       "       [0.4, 0.4],\n",
       "       [0.4, 0.4],\n",
       "       [0.4, 0.4],\n",
       "       [0.4, 0.4],\n",
       "       [0.4, 0.4],\n",
       "       [0.4, 0.4],\n",
       "       [0.4, 0.4],\n",
       "       [0.4, 0.4],\n",
       "       [0.4, 0.4],\n",
       "       [0.4, 0.4],\n",
       "       [0.4, 0.4],\n",
       "       [0.4, 0.4],\n",
       "       [0.4, 0.4],\n",
       "       [0.4, 0.4],\n",
       "       [0.4, 0.4],\n",
       "       [0.4, 0.4],\n",
       "       [0.4, 0.4],\n",
       "       [0.4, 0.4],\n",
       "       [0.4, 0.4],\n",
       "       [0.4, 0.4],\n",
       "       [0.4, 0.4],\n",
       "       [0.4, 0.4],\n",
       "       [0.4, 0.4],\n",
       "       [0.4, 0.4],\n",
       "       [0.4, 0.4],\n",
       "       [0.4, 0.4],\n",
       "       [0.4, 0.4],\n",
       "       [0.4, 0.4],\n",
       "       [0.4, 0.4],\n",
       "       [0.4, 0.4],\n",
       "       [0.4, 0.4],\n",
       "       [0.4, 0.4],\n",
       "       [0.4, 0.4],\n",
       "       [0.4, 0.4],\n",
       "       [0.4, 0.4],\n",
       "       [0.9, 0.9],\n",
       "       [0.9, 0.9]])"
      ]
     },
     "execution_count": 47,
     "metadata": {},
     "output_type": "execute_result"
    }
   ],
   "source": [
    "##grab columns\n",
    "#first two columns\n",
    "arr_slic[:, 0:2]"
   ]
  },
  {
   "cell_type": "code",
   "execution_count": 48,
   "metadata": {
    "colab": {
     "base_uri": "https://localhost:8080/"
    },
    "executionInfo": {
     "elapsed": 218,
     "status": "ok",
     "timestamp": 1662079886455,
     "user": {
      "displayName": "Thomas Torku",
      "userId": "10960922907377973260"
     },
     "user_tz": 300
    },
    "id": "y5FiuT0FrQzK",
    "outputId": "e8f0c38b-b824-42ef-952c-987bbf76ba15"
   },
   "outputs": [
    {
     "data": {
      "text/plain": [
       "1275"
      ]
     },
     "execution_count": 48,
     "metadata": {},
     "output_type": "execute_result"
    }
   ],
   "source": [
    "#other stuff\n",
    "np.sum(arr_arange)"
   ]
  },
  {
   "cell_type": "code",
   "execution_count": 49,
   "metadata": {
    "colab": {
     "base_uri": "https://localhost:8080/"
    },
    "executionInfo": {
     "elapsed": 201,
     "status": "ok",
     "timestamp": 1662079903131,
     "user": {
      "displayName": "Thomas Torku",
      "userId": "10960922907377973260"
     },
     "user_tz": 300
    },
    "id": "Emfm28yFrmHo",
    "outputId": "1539f3c3-43a1-4c83-a83e-6a9da3d8ae75"
   },
   "outputs": [
    {
     "data": {
      "text/plain": [
       "25.0"
      ]
     },
     "execution_count": 49,
     "metadata": {},
     "output_type": "execute_result"
    }
   ],
   "source": [
    "#\n",
    "np.mean(arr_arange)"
   ]
  },
  {
   "cell_type": "code",
   "execution_count": 50,
   "metadata": {
    "colab": {
     "base_uri": "https://localhost:8080/"
    },
    "executionInfo": {
     "elapsed": 203,
     "status": "ok",
     "timestamp": 1662079917961,
     "user": {
      "displayName": "Thomas Torku",
      "userId": "10960922907377973260"
     },
     "user_tz": 300
    },
    "id": "ybteMh07rqM-",
    "outputId": "3ba4fe1b-f1c0-4951-afd2-863eb9efe94b"
   },
   "outputs": [
    {
     "data": {
      "text/plain": [
       "14.719601443879744"
      ]
     },
     "execution_count": 50,
     "metadata": {},
     "output_type": "execute_result"
    }
   ],
   "source": [
    "np.std(arr_arange)"
   ]
  },
  {
   "cell_type": "code",
   "execution_count": 51,
   "metadata": {
    "colab": {
     "base_uri": "https://localhost:8080/"
    },
    "executionInfo": {
     "elapsed": 202,
     "status": "ok",
     "timestamp": 1662079944654,
     "user": {
      "displayName": "Thomas Torku",
      "userId": "10960922907377973260"
     },
     "user_tz": 300
    },
    "id": "oPR5imWtrt01",
    "outputId": "61875d65-a1f6-4327-813b-8ab318146a86"
   },
   "outputs": [
    {
     "data": {
      "text/plain": [
       "0"
      ]
     },
     "execution_count": 51,
     "metadata": {},
     "output_type": "execute_result"
    }
   ],
   "source": [
    "np.min(arr_arange)"
   ]
  },
  {
   "cell_type": "code",
   "execution_count": 52,
   "metadata": {
    "colab": {
     "base_uri": "https://localhost:8080/"
    },
    "executionInfo": {
     "elapsed": 205,
     "status": "ok",
     "timestamp": 1662079956742,
     "user": {
      "displayName": "Thomas Torku",
      "userId": "10960922907377973260"
     },
     "user_tz": 300
    },
    "id": "Wk-WwKrkr0Vb",
    "outputId": "91e72506-1370-4ea2-c5a2-851a73e9c198"
   },
   "outputs": [
    {
     "data": {
      "text/plain": [
       "50"
      ]
     },
     "execution_count": 52,
     "metadata": {},
     "output_type": "execute_result"
    }
   ],
   "source": [
    "np.max(arr_arange)"
   ]
  },
  {
   "cell_type": "code",
   "execution_count": 53,
   "metadata": {
    "colab": {
     "base_uri": "https://localhost:8080/"
    },
    "executionInfo": {
     "elapsed": 2,
     "status": "ok",
     "timestamp": 1662079984931,
     "user": {
      "displayName": "Thomas Torku",
      "userId": "10960922907377973260"
     },
     "user_tz": 300
    },
    "id": "KsonO2GBr3RZ",
    "outputId": "25f86854-ed7d-4e56-c8ab-081fc29e6dc8"
   },
   "outputs": [
    {
     "data": {
      "text/plain": [
       "array([[ 0,  1,  2,  3,  4,  5,  6,  7,  8,  9, 10, 11, 12, 13, 14, 15,\n",
       "        16, 17, 18, 19, 20, 21, 22, 23, 24, 25, 26, 27, 28, 29, 30, 31,\n",
       "        32, 33, 34, 35, 36, 37, 38, 39, 40, 41, 42, 43, 44, 45, 46, 47,\n",
       "        48, 49, 50]])"
      ]
     },
     "execution_count": 53,
     "metadata": {},
     "output_type": "execute_result"
    }
   ],
   "source": [
    "np.transpose(arr_arange)"
   ]
  },
  {
   "cell_type": "code",
   "execution_count": 54,
   "metadata": {
    "colab": {
     "base_uri": "https://localhost:8080/"
    },
    "executionInfo": {
     "elapsed": 228,
     "status": "ok",
     "timestamp": 1662080093510,
     "user": {
      "displayName": "Thomas Torku",
      "userId": "10960922907377973260"
     },
     "user_tz": 300
    },
    "id": "gY85KMTZr-Ih",
    "outputId": "b7477d6e-ace3-4922-a9c6-a50be7af8132"
   },
   "outputs": [
    {
     "data": {
      "text/plain": [
       "array([   0,    1,    3,    6,   10,   15,   21,   28,   36,   45,   55,\n",
       "         66,   78,   91,  105,  120,  136,  153,  171,  190,  210,  231,\n",
       "        253,  276,  300,  325,  351,  378,  406,  435,  465,  496,  528,\n",
       "        561,  595,  630,  666,  703,  741,  780,  820,  861,  903,  946,\n",
       "        990, 1035, 1081, 1128, 1176, 1225, 1275])"
      ]
     },
     "execution_count": 54,
     "metadata": {},
     "output_type": "execute_result"
    }
   ],
   "source": [
    "np.cumsum(arr_arange)"
   ]
  },
  {
   "cell_type": "code",
   "execution_count": 55,
   "metadata": {
    "colab": {
     "base_uri": "https://localhost:8080/"
    },
    "executionInfo": {
     "elapsed": 197,
     "status": "ok",
     "timestamp": 1662080134999,
     "user": {
      "displayName": "Thomas Torku",
      "userId": "10960922907377973260"
     },
     "user_tz": 300
    },
    "id": "6w_61gK-sYqm",
    "outputId": "a67d0fee-acc7-47f5-83e5-5a6e0cd98f89"
   },
   "outputs": [
    {
     "data": {
      "text/plain": [
       "[array([0]),\n",
       " array([1]),\n",
       " array([2]),\n",
       " array([3]),\n",
       " array([4]),\n",
       " array([5]),\n",
       " array([6]),\n",
       " array([7]),\n",
       " array([8]),\n",
       " array([9]),\n",
       " array([10]),\n",
       " array([11]),\n",
       " array([12]),\n",
       " array([13]),\n",
       " array([14]),\n",
       " array([15]),\n",
       " array([16]),\n",
       " array([17]),\n",
       " array([18]),\n",
       " array([19]),\n",
       " array([20]),\n",
       " array([21]),\n",
       " array([22]),\n",
       " array([23]),\n",
       " array([24]),\n",
       " array([25]),\n",
       " array([26]),\n",
       " array([27]),\n",
       " array([28]),\n",
       " array([29]),\n",
       " array([30]),\n",
       " array([31]),\n",
       " array([32]),\n",
       " array([33]),\n",
       " array([34]),\n",
       " array([35]),\n",
       " array([36]),\n",
       " array([37]),\n",
       " array([38]),\n",
       " array([39]),\n",
       " array([40]),\n",
       " array([41]),\n",
       " array([42]),\n",
       " array([43]),\n",
       " array([44]),\n",
       " array([45]),\n",
       " array([46]),\n",
       " array([47]),\n",
       " array([48]),\n",
       " array([49]),\n",
       " array([50])]"
      ]
     },
     "execution_count": 55,
     "metadata": {},
     "output_type": "execute_result"
    }
   ],
   "source": [
    "sorted(arr_arange)"
   ]
  },
  {
   "cell_type": "code",
   "execution_count": 56,
   "metadata": {
    "colab": {
     "base_uri": "https://localhost:8080/"
    },
    "executionInfo": {
     "elapsed": 216,
     "status": "ok",
     "timestamp": 1662080189135,
     "user": {
      "displayName": "Thomas Torku",
      "userId": "10960922907377973260"
     },
     "user_tz": 300
    },
    "id": "SO594P_lsiz2",
    "outputId": "05f75e07-0c51-4a24-9cca-94b5ae239536"
   },
   "outputs": [
    {
     "data": {
      "text/plain": [
       "array([[50],\n",
       "       [49],\n",
       "       [48],\n",
       "       [47],\n",
       "       [46],\n",
       "       [45],\n",
       "       [44],\n",
       "       [43],\n",
       "       [42],\n",
       "       [41],\n",
       "       [40],\n",
       "       [39],\n",
       "       [38],\n",
       "       [37],\n",
       "       [36],\n",
       "       [35],\n",
       "       [34],\n",
       "       [33],\n",
       "       [32],\n",
       "       [31],\n",
       "       [30],\n",
       "       [29],\n",
       "       [28],\n",
       "       [27],\n",
       "       [26],\n",
       "       [25],\n",
       "       [24],\n",
       "       [23],\n",
       "       [22],\n",
       "       [21],\n",
       "       [20],\n",
       "       [19],\n",
       "       [18],\n",
       "       [17],\n",
       "       [16],\n",
       "       [15],\n",
       "       [14],\n",
       "       [13],\n",
       "       [12],\n",
       "       [11],\n",
       "       [10],\n",
       "       [ 9],\n",
       "       [ 8],\n",
       "       [ 7],\n",
       "       [ 6],\n",
       "       [ 5],\n",
       "       [ 4],\n",
       "       [ 3],\n",
       "       [ 2],\n",
       "       [ 1],\n",
       "       [ 0]])"
      ]
     },
     "execution_count": 56,
     "metadata": {},
     "output_type": "execute_result"
    }
   ],
   "source": [
    "#reverse\n",
    "arr_arange[::-1]"
   ]
  },
  {
   "cell_type": "code",
   "execution_count": 59,
   "metadata": {
    "executionInfo": {
     "elapsed": 198,
     "status": "ok",
     "timestamp": 1662080577048,
     "user": {
      "displayName": "Thomas Torku",
      "userId": "10960922907377973260"
     },
     "user_tz": 300
    },
    "id": "OjufCuMvswAA"
   },
   "outputs": [],
   "source": [
    "aa =np.array([[1,2], [3,4], [4,5]])"
   ]
  },
  {
   "cell_type": "code",
   "execution_count": 60,
   "metadata": {
    "colab": {
     "base_uri": "https://localhost:8080/"
    },
    "executionInfo": {
     "elapsed": 267,
     "status": "ok",
     "timestamp": 1662080580238,
     "user": {
      "displayName": "Thomas Torku",
      "userId": "10960922907377973260"
     },
     "user_tz": 300
    },
    "id": "bIN5jrmhuHnF",
    "outputId": "9dfed12b-ccc3-42b4-f8b2-f355077ef951"
   },
   "outputs": [
    {
     "data": {
      "text/plain": [
       "array([[1, 2],\n",
       "       [3, 4],\n",
       "       [4, 5]])"
      ]
     },
     "execution_count": 60,
     "metadata": {},
     "output_type": "execute_result"
    }
   ],
   "source": [
    "aa"
   ]
  },
  {
   "cell_type": "code",
   "execution_count": 61,
   "metadata": {
    "colab": {
     "base_uri": "https://localhost:8080/"
    },
    "executionInfo": {
     "elapsed": 199,
     "status": "ok",
     "timestamp": 1662080602436,
     "user": {
      "displayName": "Thomas Torku",
      "userId": "10960922907377973260"
     },
     "user_tz": 300
    },
    "id": "1qd7tLFVuIUU",
    "outputId": "8815315c-9e9c-401e-afda-73855dcf5163"
   },
   "outputs": [
    {
     "data": {
      "text/plain": [
       "array([[1, 3, 4],\n",
       "       [2, 4, 5]])"
      ]
     },
     "execution_count": 61,
     "metadata": {},
     "output_type": "execute_result"
    }
   ],
   "source": [
    "aa.T"
   ]
  },
  {
   "cell_type": "code",
   "execution_count": null,
   "metadata": {
    "id": "KYjW_sCWuU6J"
   },
   "outputs": [],
   "source": []
  }
 ],
 "metadata": {
  "colab": {
   "authorship_tag": "ABX9TyMs7RWWny7xQ4U1AP/x7fRL",
   "provenance": []
  },
  "kernelspec": {
   "display_name": "Python 3 (ipykernel)",
   "language": "python",
   "name": "python3"
  },
  "language_info": {
   "codemirror_mode": {
    "name": "ipython",
    "version": 3
   },
   "file_extension": ".py",
   "mimetype": "text/x-python",
   "name": "python",
   "nbconvert_exporter": "python",
   "pygments_lexer": "ipython3",
   "version": "3.9.12"
  }
 },
 "nbformat": 4,
 "nbformat_minor": 1
}
